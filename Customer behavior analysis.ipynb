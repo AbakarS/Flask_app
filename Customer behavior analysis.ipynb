{
 "cells": [
  {
   "cell_type": "markdown",
   "id": "5ca2ab62",
   "metadata": {},
   "source": [
    "# Social media advertising"
   ]
  },
  {
   "cell_type": "markdown",
   "id": "6639f896",
   "metadata": {},
   "source": [
    "The goal of a business is to understand the needs of its customers and respond to them through products. Knowledge of customer needs allows the company to guide its strategy and development process. By observing certain characteristics of their customers such as age, gender and salary, companies study how customers interact with the products they offer. This technique is used more and more, it allows us to respond to the needs and desires of customers in order to retain them.\n",
    "\n",
    "The study of consumer behavior on social networks in relation to the purchase of products online is becoming increasingly important. One of the main advantages of this type of advertising is that the company can exploit the demographic, behavioural and geographical information of users and target their advertising appropriately."
   ]
  },
  {
   "cell_type": "markdown",
   "id": "f1b0beda",
   "metadata": {},
   "source": [
    "### ***Objet de l'étude***\n",
    "\n",
    "In this project, I study the dependence on the purchase of a product according to the sex, age and estimated salary of a person. Consequently, the study of the advertising strategy allows the company to know with which group of consumers it should make more advertising. "
   ]
  },
  {
   "cell_type": "markdown",
   "id": "d4230d85",
   "metadata": {},
   "source": [
    "### ***Dataset***\n",
    "\n",
    "The data contains 5 columns:\n",
    "\n",
    "UserID: Identifier of each person who purchased the product or not.\n",
    "\n",
    "Gender: The person can be male or female.\n",
    "\n",
    "Age: Age of person\n",
    "\n",
    "Estimated Salary: A person's salary\n",
    "\n",
    "Purchased: This is a binary variable (0, 1). 0 means product not purchased and 1 means product purchased. This variable is our target variable.\n",
    "\n",
    "The dataset comes from the Kaggle site which can be downloaded [here](https://www.kaggle.com/datasets/rakeshrau/social-network-ads)"
   ]
  },
  {
   "cell_type": "markdown",
   "id": "d5aa8a4d",
   "metadata": {},
   "source": [
    "***Libraries important***"
   ]
  },
  {
   "cell_type": "code",
   "execution_count": 1,
   "id": "3b80a8c9",
   "metadata": {},
   "outputs": [],
   "source": [
    "import pandas as pd\n",
    "import numpy as np\n",
    "import matplotlib.pyplot as plt\n",
    "import seaborn as sns"
   ]
  },
  {
   "cell_type": "markdown",
   "id": "b9c0ea79",
   "metadata": {},
   "source": [
    "***Importing the dataset***"
   ]
  },
  {
   "cell_type": "code",
   "execution_count": 2,
   "id": "df44ba83",
   "metadata": {},
   "outputs": [],
   "source": [
    "df = pd.read_csv(\"Social_Network_Ads.csv\")"
   ]
  },
  {
   "cell_type": "code",
   "execution_count": 3,
   "id": "9cda9378",
   "metadata": {
    "scrolled": true
   },
   "outputs": [
    {
     "data": {
      "text/html": [
       "<div>\n",
       "<style scoped>\n",
       "    .dataframe tbody tr th:only-of-type {\n",
       "        vertical-align: middle;\n",
       "    }\n",
       "\n",
       "    .dataframe tbody tr th {\n",
       "        vertical-align: top;\n",
       "    }\n",
       "\n",
       "    .dataframe thead th {\n",
       "        text-align: right;\n",
       "    }\n",
       "</style>\n",
       "<table border=\"1\" class=\"dataframe\">\n",
       "  <thead>\n",
       "    <tr style=\"text-align: right;\">\n",
       "      <th></th>\n",
       "      <th>User ID</th>\n",
       "      <th>Gender</th>\n",
       "      <th>Age</th>\n",
       "      <th>EstimatedSalary</th>\n",
       "      <th>Purchased</th>\n",
       "    </tr>\n",
       "  </thead>\n",
       "  <tbody>\n",
       "    <tr>\n",
       "      <th>0</th>\n",
       "      <td>15624510</td>\n",
       "      <td>Male</td>\n",
       "      <td>19</td>\n",
       "      <td>19000</td>\n",
       "      <td>0</td>\n",
       "    </tr>\n",
       "    <tr>\n",
       "      <th>1</th>\n",
       "      <td>15810944</td>\n",
       "      <td>Male</td>\n",
       "      <td>35</td>\n",
       "      <td>20000</td>\n",
       "      <td>0</td>\n",
       "    </tr>\n",
       "    <tr>\n",
       "      <th>2</th>\n",
       "      <td>15668575</td>\n",
       "      <td>Female</td>\n",
       "      <td>26</td>\n",
       "      <td>43000</td>\n",
       "      <td>0</td>\n",
       "    </tr>\n",
       "    <tr>\n",
       "      <th>3</th>\n",
       "      <td>15603246</td>\n",
       "      <td>Female</td>\n",
       "      <td>27</td>\n",
       "      <td>57000</td>\n",
       "      <td>0</td>\n",
       "    </tr>\n",
       "    <tr>\n",
       "      <th>4</th>\n",
       "      <td>15804002</td>\n",
       "      <td>Male</td>\n",
       "      <td>19</td>\n",
       "      <td>76000</td>\n",
       "      <td>0</td>\n",
       "    </tr>\n",
       "  </tbody>\n",
       "</table>\n",
       "</div>"
      ],
      "text/plain": [
       "    User ID  Gender  Age  EstimatedSalary  Purchased\n",
       "0  15624510    Male   19            19000          0\n",
       "1  15810944    Male   35            20000          0\n",
       "2  15668575  Female   26            43000          0\n",
       "3  15603246  Female   27            57000          0\n",
       "4  15804002    Male   19            76000          0"
      ]
     },
     "execution_count": 3,
     "metadata": {},
     "output_type": "execute_result"
    }
   ],
   "source": [
    "# First 5 rows of the dataset\n",
    "df.head()"
   ]
  },
  {
   "cell_type": "code",
   "execution_count": 4,
   "id": "1239a8a2",
   "metadata": {},
   "outputs": [
    {
     "name": "stdout",
     "output_type": "stream",
     "text": [
      "<class 'pandas.core.frame.DataFrame'>\n",
      "RangeIndex: 400 entries, 0 to 399\n",
      "Data columns (total 5 columns):\n",
      " #   Column           Non-Null Count  Dtype \n",
      "---  ------           --------------  ----- \n",
      " 0   User ID          400 non-null    int64 \n",
      " 1   Gender           400 non-null    object\n",
      " 2   Age              400 non-null    int64 \n",
      " 3   EstimatedSalary  400 non-null    int64 \n",
      " 4   Purchased        400 non-null    int64 \n",
      "dtypes: int64(4), object(1)\n",
      "memory usage: 15.8+ KB\n"
     ]
    }
   ],
   "source": [
    "# Dataset details\n",
    "df.info()"
   ]
  },
  {
   "cell_type": "markdown",
   "id": "3521630e",
   "metadata": {},
   "source": [
    "I find that there is no missing data in my dataset and that I have two types of data (int64 and object). And the size of my dataset is 400 observations with 5 columns. "
   ]
  },
  {
   "cell_type": "code",
   "execution_count": 5,
   "id": "abe2b8ec",
   "metadata": {},
   "outputs": [
    {
     "data": {
      "text/plain": [
       "(400, 5)"
      ]
     },
     "execution_count": 5,
     "metadata": {},
     "output_type": "execute_result"
    }
   ],
   "source": [
    "# Dataset shape\n",
    "df.shape"
   ]
  },
  {
   "cell_type": "markdown",
   "id": "e01f3349",
   "metadata": {},
   "source": [
    "***Descriptive statistics***\n",
    "\n",
    "[reference](https://pandas.pydata.org/docs/reference/api/pandas.DataFrame.describe.html)"
   ]
  },
  {
   "cell_type": "code",
   "execution_count": 6,
   "id": "8d5d151e",
   "metadata": {
    "scrolled": true
   },
   "outputs": [
    {
     "data": {
      "text/html": [
       "<div>\n",
       "<style scoped>\n",
       "    .dataframe tbody tr th:only-of-type {\n",
       "        vertical-align: middle;\n",
       "    }\n",
       "\n",
       "    .dataframe tbody tr th {\n",
       "        vertical-align: top;\n",
       "    }\n",
       "\n",
       "    .dataframe thead th {\n",
       "        text-align: right;\n",
       "    }\n",
       "</style>\n",
       "<table border=\"1\" class=\"dataframe\">\n",
       "  <thead>\n",
       "    <tr style=\"text-align: right;\">\n",
       "      <th></th>\n",
       "      <th>Age</th>\n",
       "      <th>EstimatedSalary</th>\n",
       "      <th>Purchased</th>\n",
       "    </tr>\n",
       "  </thead>\n",
       "  <tbody>\n",
       "    <tr>\n",
       "      <th>count</th>\n",
       "      <td>400.000000</td>\n",
       "      <td>400.000000</td>\n",
       "      <td>400.000000</td>\n",
       "    </tr>\n",
       "    <tr>\n",
       "      <th>mean</th>\n",
       "      <td>37.655000</td>\n",
       "      <td>69742.500000</td>\n",
       "      <td>0.357500</td>\n",
       "    </tr>\n",
       "    <tr>\n",
       "      <th>std</th>\n",
       "      <td>10.482877</td>\n",
       "      <td>34096.960282</td>\n",
       "      <td>0.479864</td>\n",
       "    </tr>\n",
       "    <tr>\n",
       "      <th>min</th>\n",
       "      <td>18.000000</td>\n",
       "      <td>15000.000000</td>\n",
       "      <td>0.000000</td>\n",
       "    </tr>\n",
       "    <tr>\n",
       "      <th>25%</th>\n",
       "      <td>29.750000</td>\n",
       "      <td>43000.000000</td>\n",
       "      <td>0.000000</td>\n",
       "    </tr>\n",
       "    <tr>\n",
       "      <th>50%</th>\n",
       "      <td>37.000000</td>\n",
       "      <td>70000.000000</td>\n",
       "      <td>0.000000</td>\n",
       "    </tr>\n",
       "    <tr>\n",
       "      <th>75%</th>\n",
       "      <td>46.000000</td>\n",
       "      <td>88000.000000</td>\n",
       "      <td>1.000000</td>\n",
       "    </tr>\n",
       "    <tr>\n",
       "      <th>max</th>\n",
       "      <td>60.000000</td>\n",
       "      <td>150000.000000</td>\n",
       "      <td>1.000000</td>\n",
       "    </tr>\n",
       "  </tbody>\n",
       "</table>\n",
       "</div>"
      ],
      "text/plain": [
       "              Age  EstimatedSalary   Purchased\n",
       "count  400.000000       400.000000  400.000000\n",
       "mean    37.655000     69742.500000    0.357500\n",
       "std     10.482877     34096.960282    0.479864\n",
       "min     18.000000     15000.000000    0.000000\n",
       "25%     29.750000     43000.000000    0.000000\n",
       "50%     37.000000     70000.000000    0.000000\n",
       "75%     46.000000     88000.000000    1.000000\n",
       "max     60.000000    150000.000000    1.000000"
      ]
     },
     "execution_count": 6,
     "metadata": {},
     "output_type": "execute_result"
    }
   ],
   "source": [
    "df.iloc[:, 1:].describe()"
   ]
  },
  {
   "cell_type": "markdown",
   "id": "f7c1c586",
   "metadata": {},
   "source": [
    "There are no large ranges in the data, but scaling will allow Machine Learning models to better adapt to the data. "
   ]
  },
  {
   "cell_type": "markdown",
   "id": "c46f7bd5",
   "metadata": {},
   "source": [
    "***Correlation***\n",
    "\n",
    "[reference](https://pandas.pydata.org/docs/reference/api/pandas.DataFrame.corr.html)\n",
    "\n",
    "[reference](https://seaborn.pydata.org/generated/seaborn.heatmap.html)"
   ]
  },
  {
   "cell_type": "code",
   "execution_count": 7,
   "id": "f3e8f62a",
   "metadata": {
    "scrolled": false
   },
   "outputs": [
    {
     "data": {
      "text/plain": [
       "Text(0.5, 1.0, 'Correlation')"
      ]
     },
     "execution_count": 7,
     "metadata": {},
     "output_type": "execute_result"
    },
    {
     "data": {
      "image/png": "[encoded data removed]",
      "text/plain": [
       "<Figure size 600x500 with 2 Axes>"
      ]
     },
     "metadata": {},
     "output_type": "display_data"
    }
   ],
   "source": [
    "#Correlation between numerical features\n",
    "plt.figure(figsize=(6, 5))\n",
    "sns.heatmap(df.iloc[:, 1:].select_dtypes(include =np.number).corr().iloc[:, 1:], cmap='GnBu', vmin=0.25, vmax=0.5, annot = True)\n",
    "plt.title(\"Correlation\")"
   ]
  },
  {
   "cell_type": "markdown",
   "id": "fed41812",
   "metadata": {},
   "source": [
    "The correlation between features is low. However, it is around 62% and 36% between the target variable and the variable \"age\" and \"EtimatedSalary\". "
   ]
  },
  {
   "cell_type": "markdown",
   "id": "699dfbea",
   "metadata": {},
   "source": [
    "### ***Data visualization***"
   ]
  },
  {
   "cell_type": "markdown",
   "id": "0d2501ee",
   "metadata": {},
   "source": [
    "***Count plot***\n",
    "\n",
    "The countplot function can be used to represent the number of observations of a categorical variable for each group with bars.\n",
    "\n",
    "[reference](https://seaborn.pydata.org/generated/seaborn.countplot.html)\n",
    "\n",
    "[reference](https://python-charts.com/ranking/countplot-seaborn/?utm_content=cmp-true)"
   ]
  },
  {
   "cell_type": "markdown",
   "id": "433bebe0",
   "metadata": {},
   "source": [
    "***Purchased***"
   ]
  },
  {
   "cell_type": "code",
   "execution_count": 8,
   "id": "b27e6e43",
   "metadata": {},
   "outputs": [
    {
     "data": {
      "text/plain": [
       "Text(0.5, 1.0, 'Number of observations in each category')"
      ]
     },
     "execution_count": 8,
     "metadata": {},
     "output_type": "execute_result"
    },
    {
     "data": {
      "image/png": "[encoded data removed]",
      "text/plain": [
       "<Figure size 600x500 with 1 Axes>"
      ]
     },
     "metadata": {},
     "output_type": "display_data"
    }
   ],
   "source": [
    "plt.figure(figsize=(6, 5))\n",
    "sns.countplot(x=\"Purchased\", hue='Gender', data = df)\n",
    "plt.title(\"Number of observations in each category\")"
   ]
  },
  {
   "cell_type": "code",
   "execution_count": 9,
   "id": "711a67bd",
   "metadata": {},
   "outputs": [
    {
     "data": {
      "text/plain": [
       "Index(['User ID', 'Gender', 'Age', 'EstimatedSalary', 'Purchased'], dtype='object')"
      ]
     },
     "execution_count": 9,
     "metadata": {},
     "output_type": "execute_result"
    }
   ],
   "source": [
    "df.columns"
   ]
  },
  {
   "cell_type": "code",
   "execution_count": 10,
   "id": "0e3fbb45",
   "metadata": {},
   "outputs": [
    {
     "data": {
      "text/plain": [
       "0    257\n",
       "1    143\n",
       "Name: Purchased, dtype: int64"
      ]
     },
     "execution_count": 10,
     "metadata": {},
     "output_type": "execute_result"
    }
   ],
   "source": [
    "df['Purchased'].value_counts()"
   ]
  },
  {
   "cell_type": "markdown",
   "id": "eafb57ae",
   "metadata": {},
   "source": [
    "I see that class 0 is almost twice as big as class 1. I will try to keep my data as is, but for more details on unbalanced classes you can check this [link](http://www.xavierdupre.fr/app/ensae_teaching_cs/helpsphinx/ml2a/td2a_mlbasic_imbalanced_classification.html)\n",
    "\n",
    "\n",
    "I also notice that women buy more than men. In this case, the company must continue to target more women in its advertising campaigns while keeping an eye on men."
   ]
  },
  {
   "cell_type": "markdown",
   "id": "410f9f75",
   "metadata": {},
   "source": [
    "***Gender***"
   ]
  },
  {
   "cell_type": "code",
   "execution_count": 11,
   "id": "aad294f0",
   "metadata": {
    "scrolled": false
   },
   "outputs": [
    {
     "data": {
      "text/plain": [
       "Text(0.5, 1.0, 'Number of observations in each category')"
      ]
     },
     "execution_count": 11,
     "metadata": {},
     "output_type": "execute_result"
    },
    {
     "data": {
      "image/png": "[encoded data removed]",
      "text/plain": [
       "<Figure size 600x500 with 1 Axes>"
      ]
     },
     "metadata": {},
     "output_type": "display_data"
    }
   ],
   "source": [
    "plt.figure(figsize=(6, 5))\n",
    "sns.countplot(x=\"Gender\", data = df)\n",
    "plt.title(\"Number of observations in each category\")"
   ]
  },
  {
   "cell_type": "code",
   "execution_count": 12,
   "id": "42cce5a7",
   "metadata": {
    "scrolled": true
   },
   "outputs": [
    {
     "data": {
      "text/plain": [
       "Female    204\n",
       "Male      196\n",
       "Name: Gender, dtype: int64"
      ]
     },
     "execution_count": 12,
     "metadata": {},
     "output_type": "execute_result"
    }
   ],
   "source": [
    "df[\"Gender\"].value_counts()"
   ]
  },
  {
   "cell_type": "markdown",
   "id": "a833c99b",
   "metadata": {},
   "source": [
    "We see that there are more women than men in the company's data, even if the gap is very small."
   ]
  },
  {
   "cell_type": "markdown",
   "id": "ffbce7f6",
   "metadata": {},
   "source": [
    "***Age***\n",
    "\n",
    "[reference](https://seaborn.pydata.org/generated/seaborn.histplot.html)\n",
    "\n",
    "[reference](https://seaborn.pydata.org/generated/seaborn.boxplot.html)"
   ]
  },
  {
   "cell_type": "code",
   "execution_count": 13,
   "id": "19880068",
   "metadata": {
    "scrolled": false
   },
   "outputs": [
    {
     "data": {
      "text/plain": [
       "<Axes: title={'center': 'Age distribution according to purchases'}, xlabel='Age', ylabel='Count'>"
      ]
     },
     "execution_count": 13,
     "metadata": {},
     "output_type": "execute_result"
    },
    {
     "data": {
      "image/png": "[encoded data removed]",
      "text/plain": [
       "<Figure size 600x500 with 1 Axes>"
      ]
     },
     "metadata": {},
     "output_type": "display_data"
    }
   ],
   "source": [
    "plt.figure(figsize=(6, 5))\n",
    "plt.title(\"Age distribution according to purchases\")\n",
    "sns.histplot(x = \"Age\", hue = \"Purchased\", data = df)"
   ]
  },
  {
   "cell_type": "markdown",
   "id": "644a67cb",
   "metadata": {},
   "source": [
    "I see clearly that the company focuses on people over 44 (targeting), because they are the ones who bought the product.  \n"
   ]
  },
  {
   "cell_type": "code",
   "execution_count": 14,
   "id": "80a43fc3",
   "metadata": {},
   "outputs": [
    {
     "data": {
      "text/plain": [
       "<Axes: title={'center': 'Age distribution according to purchases'}, xlabel='Age'>"
      ]
     },
     "execution_count": 14,
     "metadata": {},
     "output_type": "execute_result"
    },
    {
     "data": {
      "image/png": "[encoded data removed]",
      "text/plain": [
       "<Figure size 600x500 with 1 Axes>"
      ]
     },
     "metadata": {},
     "output_type": "display_data"
    }
   ],
   "source": [
    "plt.figure(figsize=(6, 5))\n",
    "plt.title(\"Age distribution according to purchases\")\n",
    "sns.boxplot(x = \"Age\", data = df)"
   ]
  },
  {
   "cell_type": "markdown",
   "id": "7bfac2dc",
   "metadata": {},
   "source": [
    "There are no outliers in this feature, but the data is a little spread out, simple scaling will be enough to contain the data variability."
   ]
  },
  {
   "cell_type": "markdown",
   "id": "2c0542d6",
   "metadata": {},
   "source": [
    "***EstimatedSalary***"
   ]
  },
  {
   "cell_type": "code",
   "execution_count": 15,
   "id": "ae9da09b",
   "metadata": {},
   "outputs": [
    {
     "data": {
      "text/plain": [
       "<Axes: title={'center': 'Salary distribution according to purchases'}, xlabel='EstimatedSalary', ylabel='Count'>"
      ]
     },
     "execution_count": 15,
     "metadata": {},
     "output_type": "execute_result"
    },
    {
     "data": {
      "image/png": "[encoded data removed]",
      "text/plain": [
       "<Figure size 600x500 with 1 Axes>"
      ]
     },
     "metadata": {},
     "output_type": "display_data"
    }
   ],
   "source": [
    "plt.figure(figsize=(6,5))\n",
    "plt.title(\"Salary distribution according to purchases\")\n",
    "sns.histplot(x = \"EstimatedSalary\", hue = \"Purchased\", data = df)"
   ]
  },
  {
   "cell_type": "markdown",
   "id": "4344ab41",
   "metadata": {},
   "source": [
    "People who have made purchases have more than 90,000 salaries per month. "
   ]
  },
  {
   "cell_type": "code",
   "execution_count": 16,
   "id": "5509303e",
   "metadata": {},
   "outputs": [
    {
     "data": {
      "text/plain": [
       "<Axes: title={'center': 'Salary distribution according to purchases'}, xlabel='EstimatedSalary'>"
      ]
     },
     "execution_count": 16,
     "metadata": {},
     "output_type": "execute_result"
    },
    {
     "data": {
      "image/png": "[encoded data removed]",
      "text/plain": [
       "<Figure size 600x500 with 1 Axes>"
      ]
     },
     "metadata": {},
     "output_type": "display_data"
    }
   ],
   "source": [
    "plt.figure(figsize=(6, 5))\n",
    "plt.title(\"Salary distribution according to purchases\")\n",
    "sns.boxplot(x = \"EstimatedSalary\", data = df)"
   ]
  },
  {
   "cell_type": "markdown",
   "id": "bc6c4d63",
   "metadata": {},
   "source": [
    "There are no outliers in this feature, but the data is a little spread out, simple scaling will be enough to contain the data variability.\n"
   ]
  },
  {
   "cell_type": "markdown",
   "id": "4513ca3d",
   "metadata": {},
   "source": [
    "### ***Data preprocessing***"
   ]
  },
  {
   "cell_type": "markdown",
   "id": "fb8fdf0d",
   "metadata": {},
   "source": [
    "***Delete User ID***\n",
    "\n",
    "This feature is not important for Machine Learning models"
   ]
  },
  {
   "cell_type": "code",
   "execution_count": 17,
   "id": "ed014a46",
   "metadata": {},
   "outputs": [],
   "source": [
    "data = df.drop(\"User ID\", axis = 1)"
   ]
  },
  {
   "cell_type": "code",
   "execution_count": 18,
   "id": "9b964bda",
   "metadata": {},
   "outputs": [
    {
     "data": {
      "text/html": [
       "<div>\n",
       "<style scoped>\n",
       "    .dataframe tbody tr th:only-of-type {\n",
       "        vertical-align: middle;\n",
       "    }\n",
       "\n",
       "    .dataframe tbody tr th {\n",
       "        vertical-align: top;\n",
       "    }\n",
       "\n",
       "    .dataframe thead th {\n",
       "        text-align: right;\n",
       "    }\n",
       "</style>\n",
       "<table border=\"1\" class=\"dataframe\">\n",
       "  <thead>\n",
       "    <tr style=\"text-align: right;\">\n",
       "      <th></th>\n",
       "      <th>Gender</th>\n",
       "      <th>Age</th>\n",
       "      <th>EstimatedSalary</th>\n",
       "      <th>Purchased</th>\n",
       "    </tr>\n",
       "  </thead>\n",
       "  <tbody>\n",
       "    <tr>\n",
       "      <th>0</th>\n",
       "      <td>Male</td>\n",
       "      <td>19</td>\n",
       "      <td>19000</td>\n",
       "      <td>0</td>\n",
       "    </tr>\n",
       "    <tr>\n",
       "      <th>1</th>\n",
       "      <td>Male</td>\n",
       "      <td>35</td>\n",
       "      <td>20000</td>\n",
       "      <td>0</td>\n",
       "    </tr>\n",
       "    <tr>\n",
       "      <th>2</th>\n",
       "      <td>Female</td>\n",
       "      <td>26</td>\n",
       "      <td>43000</td>\n",
       "      <td>0</td>\n",
       "    </tr>\n",
       "    <tr>\n",
       "      <th>3</th>\n",
       "      <td>Female</td>\n",
       "      <td>27</td>\n",
       "      <td>57000</td>\n",
       "      <td>0</td>\n",
       "    </tr>\n",
       "    <tr>\n",
       "      <th>4</th>\n",
       "      <td>Male</td>\n",
       "      <td>19</td>\n",
       "      <td>76000</td>\n",
       "      <td>0</td>\n",
       "    </tr>\n",
       "  </tbody>\n",
       "</table>\n",
       "</div>"
      ],
      "text/plain": [
       "   Gender  Age  EstimatedSalary  Purchased\n",
       "0    Male   19            19000          0\n",
       "1    Male   35            20000          0\n",
       "2  Female   26            43000          0\n",
       "3  Female   27            57000          0\n",
       "4    Male   19            76000          0"
      ]
     },
     "execution_count": 18,
     "metadata": {},
     "output_type": "execute_result"
    }
   ],
   "source": [
    "data.head()"
   ]
  },
  {
   "cell_type": "markdown",
   "id": "c3a8d72d",
   "metadata": {},
   "source": [
    "***One hot encoding***\n"
   ]
  },
  {
   "cell_type": "code",
   "execution_count": 19,
   "id": "694a515b",
   "metadata": {},
   "outputs": [],
   "source": [
    "def func(Gender):\n",
    "    if Gender == \"Female\":\n",
    "        Gender =1\n",
    "    else :\n",
    "        Gender = 0\n",
    "    return Gender\n",
    "\n",
    "data[\"Gender\"] = data[\"Gender\"].apply(func)"
   ]
  },
  {
   "cell_type": "code",
   "execution_count": 20,
   "id": "01454c2d",
   "metadata": {},
   "outputs": [
    {
     "data": {
      "text/plain": [
       "1    204\n",
       "0    196\n",
       "Name: Gender, dtype: int64"
      ]
     },
     "execution_count": 20,
     "metadata": {},
     "output_type": "execute_result"
    }
   ],
   "source": [
    "data[\"Gender\"].value_counts()"
   ]
  },
  {
   "cell_type": "markdown",
   "id": "7e0430d4",
   "metadata": {},
   "source": [
    "***Data set split***\n",
    "\n",
    "[reference](https://towardsdatascience.com/splitting-a-dataset-e328dab2760a)\n",
    "\n",
    "[reference](https://scikit-learn.org/stable/modules/generated/sklearn.model_selection.train_test_split.html)"
   ]
  },
  {
   "cell_type": "code",
   "execution_count": 21,
   "id": "6a2d41eb",
   "metadata": {},
   "outputs": [],
   "source": [
    "X = data.drop(\"Purchased\", axis = 1)\n",
    "y  = data[\"Purchased\"]"
   ]
  },
  {
   "cell_type": "code",
   "execution_count": 22,
   "id": "209cd037",
   "metadata": {},
   "outputs": [],
   "source": [
    "from sklearn.model_selection import train_test_split"
   ]
  },
  {
   "cell_type": "code",
   "execution_count": 23,
   "id": "a3458a94",
   "metadata": {},
   "outputs": [],
   "source": [
    "X_train, X_test, y_train, y_test = train_test_split(X, y, test_size=0.30, random_state=101)"
   ]
  },
  {
   "cell_type": "code",
   "execution_count": 24,
   "id": "105007d6",
   "metadata": {},
   "outputs": [
    {
     "data": {
      "text/plain": [
       "(280, 3)"
      ]
     },
     "execution_count": 24,
     "metadata": {},
     "output_type": "execute_result"
    }
   ],
   "source": [
    "X_train.shape"
   ]
  },
  {
   "cell_type": "code",
   "execution_count": 25,
   "id": "f67a43a0",
   "metadata": {},
   "outputs": [
    {
     "data": {
      "text/plain": [
       "(120, 3)"
      ]
     },
     "execution_count": 25,
     "metadata": {},
     "output_type": "execute_result"
    }
   ],
   "source": [
    "X_test.shape"
   ]
  },
  {
   "cell_type": "markdown",
   "id": "36992efb",
   "metadata": {},
   "source": [
    "***Data Scaling***\n",
    "\n",
    "[reference](https://scikit-learn.org/stable/modules/generated/sklearn.preprocessing.MinMaxScaler.html)\n",
    "\n",
    "[reference](https://towardsdatascience.com/all-about-feature-scaling-bcc0ad75cb35)"
   ]
  },
  {
   "cell_type": "code",
   "execution_count": 26,
   "id": "f4f723ef",
   "metadata": {},
   "outputs": [],
   "source": [
    "from sklearn.preprocessing import MinMaxScaler\n",
    "\n",
    "scaler = MinMaxScaler()"
   ]
  },
  {
   "cell_type": "code",
   "execution_count": 27,
   "id": "48a90ce0",
   "metadata": {},
   "outputs": [],
   "source": [
    "scaler = MinMaxScaler()"
   ]
  },
  {
   "cell_type": "code",
   "execution_count": 28,
   "id": "c4a697bf",
   "metadata": {},
   "outputs": [],
   "source": [
    "X_train = scaler.fit_transform(X_train)\n",
    "X_test = scaler.transform(X_test)"
   ]
  },
  {
   "cell_type": "code",
   "execution_count": 29,
   "id": "4c207892",
   "metadata": {},
   "outputs": [],
   "source": [
    "#conda update numpy"
   ]
  },
  {
   "cell_type": "code",
   "execution_count": 30,
   "id": "4ec78b96",
   "metadata": {},
   "outputs": [],
   "source": [
    "import numpy as np"
   ]
  },
  {
   "cell_type": "code",
   "execution_count": 31,
   "id": "38a864d6",
   "metadata": {},
   "outputs": [
    {
     "data": {
      "text/plain": [
       "'1.23.2'"
      ]
     },
     "execution_count": 31,
     "metadata": {},
     "output_type": "execute_result"
    }
   ],
   "source": [
    "np.__version__"
   ]
  },
  {
   "cell_type": "markdown",
   "id": "99a7f2d4",
   "metadata": {},
   "source": [
    "### ***Create Models***"
   ]
  },
  {
   "cell_type": "code",
   "execution_count": 32,
   "id": "b823b846",
   "metadata": {},
   "outputs": [],
   "source": [
    "from sklearn.linear_model import LogisticRegression\n",
    "from sklearn.svm import SVC\n",
    "from sklearn.neighbors import KNeighborsClassifier\n",
    "from sklearn.ensemble import RandomForestClassifier, AdaBoostClassifier\n",
    "from sklearn.metrics import classification_report, confusion_matrix\n",
    "from tensorflow.keras.models import Sequential\n",
    "from tensorflow.keras.layers import Dense, Dropout\n",
    "from tensorflow.keras.callbacks import EarlyStopping"
   ]
  },
  {
   "cell_type": "markdown",
   "id": "0d9a2e7b",
   "metadata": {},
   "source": [
    "#### ***Logistic Regression***\n",
    "\n",
    "\n",
    "[reference](https://scikit-learn.org/stable/modules/generated/sklearn.linear_model.LogisticRegression.html)\n",
    "\n",
    "[reference](https://realpython.com/logistic-regression-python/#logistic-regression-overview)"
   ]
  },
  {
   "cell_type": "code",
   "execution_count": 33,
   "id": "790e1dbc",
   "metadata": {},
   "outputs": [],
   "source": [
    "# Create model\n",
    "lr_model = LogisticRegression(random_state=0)"
   ]
  },
  {
   "cell_type": "code",
   "execution_count": 34,
   "id": "509d5203",
   "metadata": {},
   "outputs": [
    {
     "data": {
      "text/html": [
       "<style>#sk-container-id-1 {color: black;}#sk-container-id-1 pre{padding: 0;}#sk-container-id-1 div.sk-toggleable {background-color: white;}#sk-container-id-1 label.sk-toggleable__label {cursor: pointer;display: block;width: 100%;margin-bottom: 0;padding: 0.3em;box-sizing: border-box;text-align: center;}#sk-container-id-1 label.sk-toggleable__label-arrow:before {content: \"▸\";float: left;margin-right: 0.25em;color: #696969;}#sk-container-id-1 label.sk-toggleable__label-arrow:hover:before {color: black;}#sk-container-id-1 div.sk-estimator:hover label.sk-toggleable__label-arrow:before {color: black;}#sk-container-id-1 div.sk-toggleable__content {max-height: 0;max-width: 0;overflow: hidden;text-align: left;background-color: #f0f8ff;}#sk-container-id-1 div.sk-toggleable__content pre {margin: 0.2em;color: black;border-radius: 0.25em;background-color: #f0f8ff;}#sk-container-id-1 input.sk-toggleable__control:checked~div.sk-toggleable__content {max-height: 200px;max-width: 100%;overflow: auto;}#sk-container-id-1 input.sk-toggleable__control:checked~label.sk-toggleable__label-arrow:before {content: \"▾\";}#sk-container-id-1 div.sk-estimator input.sk-toggleable__control:checked~label.sk-toggleable__label {background-color: #d4ebff;}#sk-container-id-1 div.sk-label input.sk-toggleable__control:checked~label.sk-toggleable__label {background-color: #d4ebff;}#sk-container-id-1 input.sk-hidden--visually {border: 0;clip: rect(1px 1px 1px 1px);clip: rect(1px, 1px, 1px, 1px);height: 1px;margin: -1px;overflow: hidden;padding: 0;position: absolute;width: 1px;}#sk-container-id-1 div.sk-estimator {font-family: monospace;background-color: #f0f8ff;border: 1px dotted black;border-radius: 0.25em;box-sizing: border-box;margin-bottom: 0.5em;}#sk-container-id-1 div.sk-estimator:hover {background-color: #d4ebff;}#sk-container-id-1 div.sk-parallel-item::after {content: \"\";width: 100%;border-bottom: 1px solid gray;flex-grow: 1;}#sk-container-id-1 div.sk-label:hover label.sk-toggleable__label {background-color: #d4ebff;}#sk-container-id-1 div.sk-serial::before {content: \"\";position: absolute;border-left: 1px solid gray;box-sizing: border-box;top: 0;bottom: 0;left: 50%;z-index: 0;}#sk-container-id-1 div.sk-serial {display: flex;flex-direction: column;align-items: center;background-color: white;padding-right: 0.2em;padding-left: 0.2em;position: relative;}#sk-container-id-1 div.sk-item {position: relative;z-index: 1;}#sk-container-id-1 div.sk-parallel {display: flex;align-items: stretch;justify-content: center;background-color: white;position: relative;}#sk-container-id-1 div.sk-item::before, #sk-container-id-1 div.sk-parallel-item::before {content: \"\";position: absolute;border-left: 1px solid gray;box-sizing: border-box;top: 0;bottom: 0;left: 50%;z-index: -1;}#sk-container-id-1 div.sk-parallel-item {display: flex;flex-direction: column;z-index: 1;position: relative;background-color: white;}#sk-container-id-1 div.sk-parallel-item:first-child::after {align-self: flex-end;width: 50%;}#sk-container-id-1 div.sk-parallel-item:last-child::after {align-self: flex-start;width: 50%;}#sk-container-id-1 div.sk-parallel-item:only-child::after {width: 0;}#sk-container-id-1 div.sk-dashed-wrapped {border: 1px dashed gray;margin: 0 0.4em 0.5em 0.4em;box-sizing: border-box;padding-bottom: 0.4em;background-color: white;}#sk-container-id-1 div.sk-label label {font-family: monospace;font-weight: bold;display: inline-block;line-height: 1.2em;}#sk-container-id-1 div.sk-label-container {text-align: center;}#sk-container-id-1 div.sk-container {/* jupyter's `normalize.less` sets `[hidden] { display: none; }` but bootstrap.min.css set `[hidden] { display: none !important; }` so we also need the `!important` here to be able to override the default hidden behavior on the sphinx rendered scikit-learn.org. See: https://github.com/scikit-learn/scikit-learn/issues/21755 */display: inline-block !important;position: relative;}#sk-container-id-1 div.sk-text-repr-fallback {display: none;}</style><div id=\"sk-container-id-1\" class=\"sk-top-container\"><div class=\"sk-text-repr-fallback\"><pre>LogisticRegression(random_state=0)</pre><b>In a Jupyter environment, please rerun this cell to show the HTML representation or trust the notebook. <br />On GitHub, the HTML representation is unable to render, please try loading this page with nbviewer.org.</b></div><div class=\"sk-container\" hidden><div class=\"sk-item\"><div class=\"sk-estimator sk-toggleable\"><input class=\"sk-toggleable__control sk-hidden--visually\" id=\"sk-estimator-id-1\" type=\"checkbox\" checked><label for=\"sk-estimator-id-1\" class=\"sk-toggleable__label sk-toggleable__label-arrow\">LogisticRegression</label><div class=\"sk-toggleable__content\"><pre>LogisticRegression(random_state=0)</pre></div></div></div></div></div>"
      ],
      "text/plain": [
       "LogisticRegression(random_state=0)"
      ]
     },
     "execution_count": 34,
     "metadata": {},
     "output_type": "execute_result"
    }
   ],
   "source": [
    "# Fit the model\n",
    "lr_model.fit(X_train, y_train.values)"
   ]
  },
  {
   "cell_type": "code",
   "execution_count": 35,
   "id": "e2c34f3d",
   "metadata": {},
   "outputs": [],
   "source": [
    "predict_prob = lr_model.predict_log_proba(X_test)"
   ]
  },
  {
   "cell_type": "markdown",
   "id": "b6e5463a",
   "metadata": {},
   "source": [
    "***Evaluate model***"
   ]
  },
  {
   "cell_type": "markdown",
   "id": "bf06ee13",
   "metadata": {},
   "source": [
    "1. ***Prediction***"
   ]
  },
  {
   "cell_type": "markdown",
   "id": "37cc4497",
   "metadata": {},
   "source": [
    "You can get the actual predictions, based on the **probability matrix**, with **.predict()**"
   ]
  },
  {
   "cell_type": "code",
   "execution_count": 36,
   "id": "0c66de74",
   "metadata": {},
   "outputs": [],
   "source": [
    "lr_predictions = lr_model.predict(X_test)"
   ]
  },
  {
   "cell_type": "markdown",
   "id": "1bbca002",
   "metadata": {},
   "source": [
    "2. ***Accuracy (fraction of correct predictions)***\n",
    "\n",
    "Correct predictions / total number of data points"
   ]
  },
  {
   "cell_type": "code",
   "execution_count": 37,
   "id": "02e8b74b",
   "metadata": {},
   "outputs": [
    {
     "data": {
      "text/plain": [
       "0.84"
      ]
     },
     "execution_count": 37,
     "metadata": {},
     "output_type": "execute_result"
    }
   ],
   "source": [
    "# Accuracy\n",
    "round(lr_model.score(X_test, y_test), 2)"
   ]
  },
  {
   "cell_type": "markdown",
   "id": "c0454a43",
   "metadata": {},
   "source": [
    "3. ***Classification report***\n",
    "\n",
    "The classification_report() function allows to print the classification metrics of our model\n",
    "\n",
    "[reference](https://www.statology.org/sklearn-classification-report/)"
   ]
  },
  {
   "cell_type": "code",
   "execution_count": 38,
   "id": "14e4e33f",
   "metadata": {},
   "outputs": [
    {
     "name": "stdout",
     "output_type": "stream",
     "text": [
      "              precision    recall  f1-score   support\n",
      "\n",
      "           0       0.84      0.94      0.89        80\n",
      "           1       0.84      0.65      0.73        40\n",
      "\n",
      "    accuracy                           0.84       120\n",
      "   macro avg       0.84      0.79      0.81       120\n",
      "weighted avg       0.84      0.84      0.84       120\n",
      "\n"
     ]
    }
   ],
   "source": [
    "print(classification_report(y_test, lr_predictions))"
   ]
  },
  {
   "cell_type": "markdown",
   "id": "32d1f928",
   "metadata": {},
   "source": [
    "3. ***Confusion Matrix***\n",
    "\n",
    "[reference](https://towardsdatascience.com/understanding-confusion-matrix-a9ad42dcfd62)"
   ]
  },
  {
   "cell_type": "code",
   "execution_count": 39,
   "id": "08908c49",
   "metadata": {},
   "outputs": [
    {
     "data": {
      "text/plain": [
       "Text(0.5, 1.0, 'Confusion Matrix')"
      ]
     },
     "execution_count": 39,
     "metadata": {},
     "output_type": "execute_result"
    },
    {
     "data": {
      "image/png": "[encoded data removed]",
      "text/plain": [
       "<Figure size 640x480 with 2 Axes>"
      ]
     },
     "metadata": {},
     "output_type": "display_data"
    }
   ],
   "source": [
    "sns.heatmap(confusion_matrix(y_test, lr_predictions), cmap='GnBu', annot = True)\n",
    "plt.title(\"Confusion Matrix\")"
   ]
  },
  {
   "cell_type": "markdown",
   "id": "10807d60",
   "metadata": {},
   "source": [
    "### ***Support Vector Machine***\n",
    "\n",
    "[reference](https://scikit-learn.org/stable/modules/generated/sklearn.svm.SVC.html)\n",
    "\n",
    "[reference](https://www.analyticsvidhya.com/blog/2021/10/support-vector-machinessvm-a-complete-guide-for-beginners/)"
   ]
  },
  {
   "cell_type": "code",
   "execution_count": 40,
   "id": "f69c60aa",
   "metadata": {},
   "outputs": [],
   "source": [
    "svm_model = SVC(random_state=0)"
   ]
  },
  {
   "cell_type": "code",
   "execution_count": 41,
   "id": "37a67991",
   "metadata": {
    "scrolled": true
   },
   "outputs": [
    {
     "data": {
      "text/html": [
       "<style>#sk-container-id-2 {color: black;}#sk-container-id-2 pre{padding: 0;}#sk-container-id-2 div.sk-toggleable {background-color: white;}#sk-container-id-2 label.sk-toggleable__label {cursor: pointer;display: block;width: 100%;margin-bottom: 0;padding: 0.3em;box-sizing: border-box;text-align: center;}#sk-container-id-2 label.sk-toggleable__label-arrow:before {content: \"▸\";float: left;margin-right: 0.25em;color: #696969;}#sk-container-id-2 label.sk-toggleable__label-arrow:hover:before {color: black;}#sk-container-id-2 div.sk-estimator:hover label.sk-toggleable__label-arrow:before {color: black;}#sk-container-id-2 div.sk-toggleable__content {max-height: 0;max-width: 0;overflow: hidden;text-align: left;background-color: #f0f8ff;}#sk-container-id-2 div.sk-toggleable__content pre {margin: 0.2em;color: black;border-radius: 0.25em;background-color: #f0f8ff;}#sk-container-id-2 input.sk-toggleable__control:checked~div.sk-toggleable__content {max-height: 200px;max-width: 100%;overflow: auto;}#sk-container-id-2 input.sk-toggleable__control:checked~label.sk-toggleable__label-arrow:before {content: \"▾\";}#sk-container-id-2 div.sk-estimator input.sk-toggleable__control:checked~label.sk-toggleable__label {background-color: #d4ebff;}#sk-container-id-2 div.sk-label input.sk-toggleable__control:checked~label.sk-toggleable__label {background-color: #d4ebff;}#sk-container-id-2 input.sk-hidden--visually {border: 0;clip: rect(1px 1px 1px 1px);clip: rect(1px, 1px, 1px, 1px);height: 1px;margin: -1px;overflow: hidden;padding: 0;position: absolute;width: 1px;}#sk-container-id-2 div.sk-estimator {font-family: monospace;background-color: #f0f8ff;border: 1px dotted black;border-radius: 0.25em;box-sizing: border-box;margin-bottom: 0.5em;}#sk-container-id-2 div.sk-estimator:hover {background-color: #d4ebff;}#sk-container-id-2 div.sk-parallel-item::after {content: \"\";width: 100%;border-bottom: 1px solid gray;flex-grow: 1;}#sk-container-id-2 div.sk-label:hover label.sk-toggleable__label {background-color: #d4ebff;}#sk-container-id-2 div.sk-serial::before {content: \"\";position: absolute;border-left: 1px solid gray;box-sizing: border-box;top: 0;bottom: 0;left: 50%;z-index: 0;}#sk-container-id-2 div.sk-serial {display: flex;flex-direction: column;align-items: center;background-color: white;padding-right: 0.2em;padding-left: 0.2em;position: relative;}#sk-container-id-2 div.sk-item {position: relative;z-index: 1;}#sk-container-id-2 div.sk-parallel {display: flex;align-items: stretch;justify-content: center;background-color: white;position: relative;}#sk-container-id-2 div.sk-item::before, #sk-container-id-2 div.sk-parallel-item::before {content: \"\";position: absolute;border-left: 1px solid gray;box-sizing: border-box;top: 0;bottom: 0;left: 50%;z-index: -1;}#sk-container-id-2 div.sk-parallel-item {display: flex;flex-direction: column;z-index: 1;position: relative;background-color: white;}#sk-container-id-2 div.sk-parallel-item:first-child::after {align-self: flex-end;width: 50%;}#sk-container-id-2 div.sk-parallel-item:last-child::after {align-self: flex-start;width: 50%;}#sk-container-id-2 div.sk-parallel-item:only-child::after {width: 0;}#sk-container-id-2 div.sk-dashed-wrapped {border: 1px dashed gray;margin: 0 0.4em 0.5em 0.4em;box-sizing: border-box;padding-bottom: 0.4em;background-color: white;}#sk-container-id-2 div.sk-label label {font-family: monospace;font-weight: bold;display: inline-block;line-height: 1.2em;}#sk-container-id-2 div.sk-label-container {text-align: center;}#sk-container-id-2 div.sk-container {/* jupyter's `normalize.less` sets `[hidden] { display: none; }` but bootstrap.min.css set `[hidden] { display: none !important; }` so we also need the `!important` here to be able to override the default hidden behavior on the sphinx rendered scikit-learn.org. See: https://github.com/scikit-learn/scikit-learn/issues/21755 */display: inline-block !important;position: relative;}#sk-container-id-2 div.sk-text-repr-fallback {display: none;}</style><div id=\"sk-container-id-2\" class=\"sk-top-container\"><div class=\"sk-text-repr-fallback\"><pre>SVC(random_state=0)</pre><b>In a Jupyter environment, please rerun this cell to show the HTML representation or trust the notebook. <br />On GitHub, the HTML representation is unable to render, please try loading this page with nbviewer.org.</b></div><div class=\"sk-container\" hidden><div class=\"sk-item\"><div class=\"sk-estimator sk-toggleable\"><input class=\"sk-toggleable__control sk-hidden--visually\" id=\"sk-estimator-id-2\" type=\"checkbox\" checked><label for=\"sk-estimator-id-2\" class=\"sk-toggleable__label sk-toggleable__label-arrow\">SVC</label><div class=\"sk-toggleable__content\"><pre>SVC(random_state=0)</pre></div></div></div></div></div>"
      ],
      "text/plain": [
       "SVC(random_state=0)"
      ]
     },
     "execution_count": 41,
     "metadata": {},
     "output_type": "execute_result"
    }
   ],
   "source": [
    "svm_model.fit(X_train, y_train.values)"
   ]
  },
  {
   "cell_type": "markdown",
   "id": "320bc4e0",
   "metadata": {},
   "source": [
    "***Evaluate Model***"
   ]
  },
  {
   "cell_type": "markdown",
   "id": "7c1b28d6",
   "metadata": {},
   "source": [
    "1. ***Prediction*** "
   ]
  },
  {
   "cell_type": "code",
   "execution_count": 42,
   "id": "4e29dec4",
   "metadata": {},
   "outputs": [],
   "source": [
    "svm_prediction = svm_model.predict(X_test)\n"
   ]
  },
  {
   "cell_type": "markdown",
   "id": "eedede59",
   "metadata": {},
   "source": [
    "2. ***Classification report***"
   ]
  },
  {
   "cell_type": "code",
   "execution_count": 43,
   "id": "5f16054e",
   "metadata": {},
   "outputs": [
    {
     "name": "stdout",
     "output_type": "stream",
     "text": [
      "              precision    recall  f1-score   support\n",
      "\n",
      "           0       0.97      0.90      0.94        80\n",
      "           1       0.83      0.95      0.88        40\n",
      "\n",
      "    accuracy                           0.92       120\n",
      "   macro avg       0.90      0.93      0.91       120\n",
      "weighted avg       0.92      0.92      0.92       120\n",
      "\n"
     ]
    }
   ],
   "source": [
    "print(classification_report(y_test, svm_prediction))"
   ]
  },
  {
   "cell_type": "markdown",
   "id": "7ef1627b",
   "metadata": {},
   "source": [
    "***3. Confusion Matrix***"
   ]
  },
  {
   "cell_type": "code",
   "execution_count": 44,
   "id": "3ec190e5",
   "metadata": {},
   "outputs": [
    {
     "data": {
      "text/plain": [
       "Text(0.5, 1.0, 'Confusion Matrix')"
      ]
     },
     "execution_count": 44,
     "metadata": {},
     "output_type": "execute_result"
    },
    {
     "data": {
      "image/png": "[encoded data removed]",
      "text/plain": [
       "<Figure size 640x480 with 2 Axes>"
      ]
     },
     "metadata": {},
     "output_type": "display_data"
    }
   ],
   "source": [
    "sns.heatmap(confusion_matrix(y_test, svm_prediction),cmap='GnBu', annot = True)\n",
    "plt.title(\"Confusion Matrix\")"
   ]
  },
  {
   "cell_type": "markdown",
   "id": "2e85b754",
   "metadata": {},
   "source": [
    "### ***k-Nearest Neighbours Classifier (KNN)***\n",
    "\n",
    "[reference](https://scikit-learn.org/stable/modules/generated/sklearn.neighbors.KNeighborsClassifier.html)\n",
    "\n",
    "[reference](https://www.analyticsvidhya.com/blog/2018/03/introduction-k-neighbours-algorithm-clustering/)"
   ]
  },
  {
   "cell_type": "code",
   "execution_count": 45,
   "id": "29d54f42",
   "metadata": {},
   "outputs": [],
   "source": [
    "knn_model = KNeighborsClassifier()"
   ]
  },
  {
   "cell_type": "code",
   "execution_count": 46,
   "id": "0708e870",
   "metadata": {},
   "outputs": [
    {
     "data": {
      "text/html": [
       "<style>#sk-container-id-3 {color: black;}#sk-container-id-3 pre{padding: 0;}#sk-container-id-3 div.sk-toggleable {background-color: white;}#sk-container-id-3 label.sk-toggleable__label {cursor: pointer;display: block;width: 100%;margin-bottom: 0;padding: 0.3em;box-sizing: border-box;text-align: center;}#sk-container-id-3 label.sk-toggleable__label-arrow:before {content: \"▸\";float: left;margin-right: 0.25em;color: #696969;}#sk-container-id-3 label.sk-toggleable__label-arrow:hover:before {color: black;}#sk-container-id-3 div.sk-estimator:hover label.sk-toggleable__label-arrow:before {color: black;}#sk-container-id-3 div.sk-toggleable__content {max-height: 0;max-width: 0;overflow: hidden;text-align: left;background-color: #f0f8ff;}#sk-container-id-3 div.sk-toggleable__content pre {margin: 0.2em;color: black;border-radius: 0.25em;background-color: #f0f8ff;}#sk-container-id-3 input.sk-toggleable__control:checked~div.sk-toggleable__content {max-height: 200px;max-width: 100%;overflow: auto;}#sk-container-id-3 input.sk-toggleable__control:checked~label.sk-toggleable__label-arrow:before {content: \"▾\";}#sk-container-id-3 div.sk-estimator input.sk-toggleable__control:checked~label.sk-toggleable__label {background-color: #d4ebff;}#sk-container-id-3 div.sk-label input.sk-toggleable__control:checked~label.sk-toggleable__label {background-color: #d4ebff;}#sk-container-id-3 input.sk-hidden--visually {border: 0;clip: rect(1px 1px 1px 1px);clip: rect(1px, 1px, 1px, 1px);height: 1px;margin: -1px;overflow: hidden;padding: 0;position: absolute;width: 1px;}#sk-container-id-3 div.sk-estimator {font-family: monospace;background-color: #f0f8ff;border: 1px dotted black;border-radius: 0.25em;box-sizing: border-box;margin-bottom: 0.5em;}#sk-container-id-3 div.sk-estimator:hover {background-color: #d4ebff;}#sk-container-id-3 div.sk-parallel-item::after {content: \"\";width: 100%;border-bottom: 1px solid gray;flex-grow: 1;}#sk-container-id-3 div.sk-label:hover label.sk-toggleable__label {background-color: #d4ebff;}#sk-container-id-3 div.sk-serial::before {content: \"\";position: absolute;border-left: 1px solid gray;box-sizing: border-box;top: 0;bottom: 0;left: 50%;z-index: 0;}#sk-container-id-3 div.sk-serial {display: flex;flex-direction: column;align-items: center;background-color: white;padding-right: 0.2em;padding-left: 0.2em;position: relative;}#sk-container-id-3 div.sk-item {position: relative;z-index: 1;}#sk-container-id-3 div.sk-parallel {display: flex;align-items: stretch;justify-content: center;background-color: white;position: relative;}#sk-container-id-3 div.sk-item::before, #sk-container-id-3 div.sk-parallel-item::before {content: \"\";position: absolute;border-left: 1px solid gray;box-sizing: border-box;top: 0;bottom: 0;left: 50%;z-index: -1;}#sk-container-id-3 div.sk-parallel-item {display: flex;flex-direction: column;z-index: 1;position: relative;background-color: white;}#sk-container-id-3 div.sk-parallel-item:first-child::after {align-self: flex-end;width: 50%;}#sk-container-id-3 div.sk-parallel-item:last-child::after {align-self: flex-start;width: 50%;}#sk-container-id-3 div.sk-parallel-item:only-child::after {width: 0;}#sk-container-id-3 div.sk-dashed-wrapped {border: 1px dashed gray;margin: 0 0.4em 0.5em 0.4em;box-sizing: border-box;padding-bottom: 0.4em;background-color: white;}#sk-container-id-3 div.sk-label label {font-family: monospace;font-weight: bold;display: inline-block;line-height: 1.2em;}#sk-container-id-3 div.sk-label-container {text-align: center;}#sk-container-id-3 div.sk-container {/* jupyter's `normalize.less` sets `[hidden] { display: none; }` but bootstrap.min.css set `[hidden] { display: none !important; }` so we also need the `!important` here to be able to override the default hidden behavior on the sphinx rendered scikit-learn.org. See: https://github.com/scikit-learn/scikit-learn/issues/21755 */display: inline-block !important;position: relative;}#sk-container-id-3 div.sk-text-repr-fallback {display: none;}</style><div id=\"sk-container-id-3\" class=\"sk-top-container\"><div class=\"sk-text-repr-fallback\"><pre>KNeighborsClassifier()</pre><b>In a Jupyter environment, please rerun this cell to show the HTML representation or trust the notebook. <br />On GitHub, the HTML representation is unable to render, please try loading this page with nbviewer.org.</b></div><div class=\"sk-container\" hidden><div class=\"sk-item\"><div class=\"sk-estimator sk-toggleable\"><input class=\"sk-toggleable__control sk-hidden--visually\" id=\"sk-estimator-id-3\" type=\"checkbox\" checked><label for=\"sk-estimator-id-3\" class=\"sk-toggleable__label sk-toggleable__label-arrow\">KNeighborsClassifier</label><div class=\"sk-toggleable__content\"><pre>KNeighborsClassifier()</pre></div></div></div></div></div>"
      ],
      "text/plain": [
       "KNeighborsClassifier()"
      ]
     },
     "execution_count": 46,
     "metadata": {},
     "output_type": "execute_result"
    }
   ],
   "source": [
    "knn_model.fit(X_train, y_train.values)"
   ]
  },
  {
   "cell_type": "markdown",
   "id": "63474c7c",
   "metadata": {},
   "source": [
    "1. ***Prediction***"
   ]
  },
  {
   "cell_type": "code",
   "execution_count": 47,
   "id": "cee80ca1",
   "metadata": {},
   "outputs": [],
   "source": [
    "knn_predictions = knn_model.predict(X_test)"
   ]
  },
  {
   "cell_type": "markdown",
   "id": "aabd5638",
   "metadata": {},
   "source": [
    "2. ***Accuracy***"
   ]
  },
  {
   "cell_type": "code",
   "execution_count": 48,
   "id": "7aad0dce",
   "metadata": {},
   "outputs": [
    {
     "data": {
      "text/plain": [
       "0.94"
      ]
     },
     "execution_count": 48,
     "metadata": {},
     "output_type": "execute_result"
    }
   ],
   "source": [
    "round(knn_model.score(X_test, y_test), 2)"
   ]
  },
  {
   "cell_type": "markdown",
   "id": "921af8fe",
   "metadata": {},
   "source": [
    "3. ***Classification report***"
   ]
  },
  {
   "cell_type": "code",
   "execution_count": 49,
   "id": "3a65b5bf",
   "metadata": {},
   "outputs": [
    {
     "name": "stdout",
     "output_type": "stream",
     "text": [
      "              precision    recall  f1-score   support\n",
      "\n",
      "           0       0.99      0.93      0.95        80\n",
      "           1       0.87      0.97      0.92        40\n",
      "\n",
      "    accuracy                           0.94       120\n",
      "   macro avg       0.93      0.95      0.94       120\n",
      "weighted avg       0.95      0.94      0.94       120\n",
      "\n"
     ]
    }
   ],
   "source": [
    "print(classification_report(y_test, knn_predictions))"
   ]
  },
  {
   "cell_type": "markdown",
   "id": "9d8b9f1e",
   "metadata": {},
   "source": [
    "4. ***Confusion Matrix***"
   ]
  },
  {
   "cell_type": "code",
   "execution_count": 50,
   "id": "f6efc52d",
   "metadata": {},
   "outputs": [
    {
     "data": {
      "text/plain": [
       "Text(0.5, 1.0, 'Confusion Matrix')"
      ]
     },
     "execution_count": 50,
     "metadata": {},
     "output_type": "execute_result"
    },
    {
     "data": {
      "image/png": "[encoded data removed]",
      "text/plain": [
       "<Figure size 640x480 with 2 Axes>"
      ]
     },
     "metadata": {},
     "output_type": "display_data"
    }
   ],
   "source": [
    "sns.heatmap(confusion_matrix(y_test, knn_predictions), cmap='GnBu', annot = True)\n",
    "plt.title(\"Confusion Matrix\")"
   ]
  },
  {
   "cell_type": "markdown",
   "id": "68e5c0dc",
   "metadata": {},
   "source": [
    "### ***Random Forest Classifier***\n",
    "\n",
    "[reference](https://scikit-learn.org/stable/modules/generated/sklearn.ensemble.RandomForestClassifier.html)\n",
    "\n",
    "[reference](https://www.analyticsvidhya.com/blog/2021/06/understanding-random-forest/)"
   ]
  },
  {
   "cell_type": "code",
   "execution_count": 51,
   "id": "65764fab",
   "metadata": {},
   "outputs": [],
   "source": [
    "rfc_model = RandomForestClassifier()"
   ]
  },
  {
   "cell_type": "code",
   "execution_count": 52,
   "id": "1925f175",
   "metadata": {},
   "outputs": [
    {
     "data": {
      "text/html": [
       "<style>#sk-container-id-4 {color: black;}#sk-container-id-4 pre{padding: 0;}#sk-container-id-4 div.sk-toggleable {background-color: white;}#sk-container-id-4 label.sk-toggleable__label {cursor: pointer;display: block;width: 100%;margin-bottom: 0;padding: 0.3em;box-sizing: border-box;text-align: center;}#sk-container-id-4 label.sk-toggleable__label-arrow:before {content: \"▸\";float: left;margin-right: 0.25em;color: #696969;}#sk-container-id-4 label.sk-toggleable__label-arrow:hover:before {color: black;}#sk-container-id-4 div.sk-estimator:hover label.sk-toggleable__label-arrow:before {color: black;}#sk-container-id-4 div.sk-toggleable__content {max-height: 0;max-width: 0;overflow: hidden;text-align: left;background-color: #f0f8ff;}#sk-container-id-4 div.sk-toggleable__content pre {margin: 0.2em;color: black;border-radius: 0.25em;background-color: #f0f8ff;}#sk-container-id-4 input.sk-toggleable__control:checked~div.sk-toggleable__content {max-height: 200px;max-width: 100%;overflow: auto;}#sk-container-id-4 input.sk-toggleable__control:checked~label.sk-toggleable__label-arrow:before {content: \"▾\";}#sk-container-id-4 div.sk-estimator input.sk-toggleable__control:checked~label.sk-toggleable__label {background-color: #d4ebff;}#sk-container-id-4 div.sk-label input.sk-toggleable__control:checked~label.sk-toggleable__label {background-color: #d4ebff;}#sk-container-id-4 input.sk-hidden--visually {border: 0;clip: rect(1px 1px 1px 1px);clip: rect(1px, 1px, 1px, 1px);height: 1px;margin: -1px;overflow: hidden;padding: 0;position: absolute;width: 1px;}#sk-container-id-4 div.sk-estimator {font-family: monospace;background-color: #f0f8ff;border: 1px dotted black;border-radius: 0.25em;box-sizing: border-box;margin-bottom: 0.5em;}#sk-container-id-4 div.sk-estimator:hover {background-color: #d4ebff;}#sk-container-id-4 div.sk-parallel-item::after {content: \"\";width: 100%;border-bottom: 1px solid gray;flex-grow: 1;}#sk-container-id-4 div.sk-label:hover label.sk-toggleable__label {background-color: #d4ebff;}#sk-container-id-4 div.sk-serial::before {content: \"\";position: absolute;border-left: 1px solid gray;box-sizing: border-box;top: 0;bottom: 0;left: 50%;z-index: 0;}#sk-container-id-4 div.sk-serial {display: flex;flex-direction: column;align-items: center;background-color: white;padding-right: 0.2em;padding-left: 0.2em;position: relative;}#sk-container-id-4 div.sk-item {position: relative;z-index: 1;}#sk-container-id-4 div.sk-parallel {display: flex;align-items: stretch;justify-content: center;background-color: white;position: relative;}#sk-container-id-4 div.sk-item::before, #sk-container-id-4 div.sk-parallel-item::before {content: \"\";position: absolute;border-left: 1px solid gray;box-sizing: border-box;top: 0;bottom: 0;left: 50%;z-index: -1;}#sk-container-id-4 div.sk-parallel-item {display: flex;flex-direction: column;z-index: 1;position: relative;background-color: white;}#sk-container-id-4 div.sk-parallel-item:first-child::after {align-self: flex-end;width: 50%;}#sk-container-id-4 div.sk-parallel-item:last-child::after {align-self: flex-start;width: 50%;}#sk-container-id-4 div.sk-parallel-item:only-child::after {width: 0;}#sk-container-id-4 div.sk-dashed-wrapped {border: 1px dashed gray;margin: 0 0.4em 0.5em 0.4em;box-sizing: border-box;padding-bottom: 0.4em;background-color: white;}#sk-container-id-4 div.sk-label label {font-family: monospace;font-weight: bold;display: inline-block;line-height: 1.2em;}#sk-container-id-4 div.sk-label-container {text-align: center;}#sk-container-id-4 div.sk-container {/* jupyter's `normalize.less` sets `[hidden] { display: none; }` but bootstrap.min.css set `[hidden] { display: none !important; }` so we also need the `!important` here to be able to override the default hidden behavior on the sphinx rendered scikit-learn.org. See: https://github.com/scikit-learn/scikit-learn/issues/21755 */display: inline-block !important;position: relative;}#sk-container-id-4 div.sk-text-repr-fallback {display: none;}</style><div id=\"sk-container-id-4\" class=\"sk-top-container\"><div class=\"sk-text-repr-fallback\"><pre>RandomForestClassifier()</pre><b>In a Jupyter environment, please rerun this cell to show the HTML representation or trust the notebook. <br />On GitHub, the HTML representation is unable to render, please try loading this page with nbviewer.org.</b></div><div class=\"sk-container\" hidden><div class=\"sk-item\"><div class=\"sk-estimator sk-toggleable\"><input class=\"sk-toggleable__control sk-hidden--visually\" id=\"sk-estimator-id-4\" type=\"checkbox\" checked><label for=\"sk-estimator-id-4\" class=\"sk-toggleable__label sk-toggleable__label-arrow\">RandomForestClassifier</label><div class=\"sk-toggleable__content\"><pre>RandomForestClassifier()</pre></div></div></div></div></div>"
      ],
      "text/plain": [
       "RandomForestClassifier()"
      ]
     },
     "execution_count": 52,
     "metadata": {},
     "output_type": "execute_result"
    }
   ],
   "source": [
    "rfc_model.fit(X_train, y_train.values)"
   ]
  },
  {
   "cell_type": "markdown",
   "id": "bb620b99",
   "metadata": {},
   "source": [
    "1. ***Prediction***"
   ]
  },
  {
   "cell_type": "code",
   "execution_count": 53,
   "id": "6a6d5fd2",
   "metadata": {},
   "outputs": [],
   "source": [
    "rfc_prediction = rfc_model.predict(X_test)"
   ]
  },
  {
   "cell_type": "markdown",
   "id": "2108306f",
   "metadata": {},
   "source": [
    "2. ***Acurracy***"
   ]
  },
  {
   "cell_type": "code",
   "execution_count": 54,
   "id": "8f5222e3",
   "metadata": {},
   "outputs": [
    {
     "data": {
      "text/plain": [
       "0.92"
      ]
     },
     "execution_count": 54,
     "metadata": {},
     "output_type": "execute_result"
    }
   ],
   "source": [
    "round(rfc_model.score(X_test, y_test), 2)"
   ]
  },
  {
   "cell_type": "markdown",
   "id": "123067f5",
   "metadata": {},
   "source": [
    "3. ***Classification report***"
   ]
  },
  {
   "cell_type": "code",
   "execution_count": 55,
   "id": "f40d0fbb",
   "metadata": {},
   "outputs": [
    {
     "name": "stdout",
     "output_type": "stream",
     "text": [
      "              precision    recall  f1-score   support\n",
      "\n",
      "           0       0.99      0.90      0.94        80\n",
      "           1       0.83      0.97      0.90        40\n",
      "\n",
      "    accuracy                           0.93       120\n",
      "   macro avg       0.91      0.94      0.92       120\n",
      "weighted avg       0.93      0.93      0.93       120\n",
      "\n"
     ]
    }
   ],
   "source": [
    "print(classification_report(y_test, rfc_prediction))"
   ]
  },
  {
   "cell_type": "markdown",
   "id": "47e723dc",
   "metadata": {},
   "source": [
    "4. ***Confusion Matrix***"
   ]
  },
  {
   "cell_type": "code",
   "execution_count": 56,
   "id": "c109cfac",
   "metadata": {},
   "outputs": [
    {
     "data": {
      "text/plain": [
       "Text(0.5, 1.0, 'Confusion Matrix')"
      ]
     },
     "execution_count": 56,
     "metadata": {},
     "output_type": "execute_result"
    },
    {
     "data": {
      "image/png": "[encoded data removed]",
      "text/plain": [
       "<Figure size 640x480 with 2 Axes>"
      ]
     },
     "metadata": {},
     "output_type": "display_data"
    }
   ],
   "source": [
    "sns.heatmap(confusion_matrix(y_test, rfc_prediction), cmap='GnBu', annot =True)\n",
    "plt.title(\"Confusion Matrix\")"
   ]
  },
  {
   "cell_type": "markdown",
   "id": "2392228a",
   "metadata": {},
   "source": [
    "### ***AdaBoost Classifier***\n",
    "\n",
    "[reference](https://scikit-learn.org/stable/modules/generated/sklearn.ensemble.AdaBoostClassifier.html)\n",
    "\n",
    "[reference](https://www.analyticsvidhya.com/blog/2021/09/adaboost-algorithm-a-complete-guide-for-beginners/)"
   ]
  },
  {
   "cell_type": "code",
   "execution_count": 57,
   "id": "89f51712",
   "metadata": {},
   "outputs": [],
   "source": [
    "abc_model = AdaBoostClassifier()"
   ]
  },
  {
   "cell_type": "code",
   "execution_count": 58,
   "id": "1aa49a20",
   "metadata": {},
   "outputs": [
    {
     "data": {
      "text/html": [
       "<style>#sk-container-id-5 {color: black;}#sk-container-id-5 pre{padding: 0;}#sk-container-id-5 div.sk-toggleable {background-color: white;}#sk-container-id-5 label.sk-toggleable__label {cursor: pointer;display: block;width: 100%;margin-bottom: 0;padding: 0.3em;box-sizing: border-box;text-align: center;}#sk-container-id-5 label.sk-toggleable__label-arrow:before {content: \"▸\";float: left;margin-right: 0.25em;color: #696969;}#sk-container-id-5 label.sk-toggleable__label-arrow:hover:before {color: black;}#sk-container-id-5 div.sk-estimator:hover label.sk-toggleable__label-arrow:before {color: black;}#sk-container-id-5 div.sk-toggleable__content {max-height: 0;max-width: 0;overflow: hidden;text-align: left;background-color: #f0f8ff;}#sk-container-id-5 div.sk-toggleable__content pre {margin: 0.2em;color: black;border-radius: 0.25em;background-color: #f0f8ff;}#sk-container-id-5 input.sk-toggleable__control:checked~div.sk-toggleable__content {max-height: 200px;max-width: 100%;overflow: auto;}#sk-container-id-5 input.sk-toggleable__control:checked~label.sk-toggleable__label-arrow:before {content: \"▾\";}#sk-container-id-5 div.sk-estimator input.sk-toggleable__control:checked~label.sk-toggleable__label {background-color: #d4ebff;}#sk-container-id-5 div.sk-label input.sk-toggleable__control:checked~label.sk-toggleable__label {background-color: #d4ebff;}#sk-container-id-5 input.sk-hidden--visually {border: 0;clip: rect(1px 1px 1px 1px);clip: rect(1px, 1px, 1px, 1px);height: 1px;margin: -1px;overflow: hidden;padding: 0;position: absolute;width: 1px;}#sk-container-id-5 div.sk-estimator {font-family: monospace;background-color: #f0f8ff;border: 1px dotted black;border-radius: 0.25em;box-sizing: border-box;margin-bottom: 0.5em;}#sk-container-id-5 div.sk-estimator:hover {background-color: #d4ebff;}#sk-container-id-5 div.sk-parallel-item::after {content: \"\";width: 100%;border-bottom: 1px solid gray;flex-grow: 1;}#sk-container-id-5 div.sk-label:hover label.sk-toggleable__label {background-color: #d4ebff;}#sk-container-id-5 div.sk-serial::before {content: \"\";position: absolute;border-left: 1px solid gray;box-sizing: border-box;top: 0;bottom: 0;left: 50%;z-index: 0;}#sk-container-id-5 div.sk-serial {display: flex;flex-direction: column;align-items: center;background-color: white;padding-right: 0.2em;padding-left: 0.2em;position: relative;}#sk-container-id-5 div.sk-item {position: relative;z-index: 1;}#sk-container-id-5 div.sk-parallel {display: flex;align-items: stretch;justify-content: center;background-color: white;position: relative;}#sk-container-id-5 div.sk-item::before, #sk-container-id-5 div.sk-parallel-item::before {content: \"\";position: absolute;border-left: 1px solid gray;box-sizing: border-box;top: 0;bottom: 0;left: 50%;z-index: -1;}#sk-container-id-5 div.sk-parallel-item {display: flex;flex-direction: column;z-index: 1;position: relative;background-color: white;}#sk-container-id-5 div.sk-parallel-item:first-child::after {align-self: flex-end;width: 50%;}#sk-container-id-5 div.sk-parallel-item:last-child::after {align-self: flex-start;width: 50%;}#sk-container-id-5 div.sk-parallel-item:only-child::after {width: 0;}#sk-container-id-5 div.sk-dashed-wrapped {border: 1px dashed gray;margin: 0 0.4em 0.5em 0.4em;box-sizing: border-box;padding-bottom: 0.4em;background-color: white;}#sk-container-id-5 div.sk-label label {font-family: monospace;font-weight: bold;display: inline-block;line-height: 1.2em;}#sk-container-id-5 div.sk-label-container {text-align: center;}#sk-container-id-5 div.sk-container {/* jupyter's `normalize.less` sets `[hidden] { display: none; }` but bootstrap.min.css set `[hidden] { display: none !important; }` so we also need the `!important` here to be able to override the default hidden behavior on the sphinx rendered scikit-learn.org. See: https://github.com/scikit-learn/scikit-learn/issues/21755 */display: inline-block !important;position: relative;}#sk-container-id-5 div.sk-text-repr-fallback {display: none;}</style><div id=\"sk-container-id-5\" class=\"sk-top-container\"><div class=\"sk-text-repr-fallback\"><pre>AdaBoostClassifier()</pre><b>In a Jupyter environment, please rerun this cell to show the HTML representation or trust the notebook. <br />On GitHub, the HTML representation is unable to render, please try loading this page with nbviewer.org.</b></div><div class=\"sk-container\" hidden><div class=\"sk-item\"><div class=\"sk-estimator sk-toggleable\"><input class=\"sk-toggleable__control sk-hidden--visually\" id=\"sk-estimator-id-5\" type=\"checkbox\" checked><label for=\"sk-estimator-id-5\" class=\"sk-toggleable__label sk-toggleable__label-arrow\">AdaBoostClassifier</label><div class=\"sk-toggleable__content\"><pre>AdaBoostClassifier()</pre></div></div></div></div></div>"
      ],
      "text/plain": [
       "AdaBoostClassifier()"
      ]
     },
     "execution_count": 58,
     "metadata": {},
     "output_type": "execute_result"
    }
   ],
   "source": [
    "abc_model.fit(X_train, y_train.values)"
   ]
  },
  {
   "cell_type": "markdown",
   "id": "e72b7fe0",
   "metadata": {},
   "source": [
    "1. ***Prediction***"
   ]
  },
  {
   "cell_type": "code",
   "execution_count": 59,
   "id": "9e791a95",
   "metadata": {},
   "outputs": [],
   "source": [
    "abc_predictions = abc_model.predict(X_test)"
   ]
  },
  {
   "cell_type": "markdown",
   "id": "367752fb",
   "metadata": {},
   "source": [
    "2. ***Accuracy***"
   ]
  },
  {
   "cell_type": "code",
   "execution_count": 60,
   "id": "cd890b82",
   "metadata": {},
   "outputs": [
    {
     "data": {
      "text/plain": [
       "0.925"
      ]
     },
     "execution_count": 60,
     "metadata": {},
     "output_type": "execute_result"
    }
   ],
   "source": [
    "abc_model.score(X_test, y_test.values)"
   ]
  },
  {
   "cell_type": "markdown",
   "id": "846895e3",
   "metadata": {},
   "source": [
    "2. ***Classification report***"
   ]
  },
  {
   "cell_type": "code",
   "execution_count": 61,
   "id": "56a9eed1",
   "metadata": {},
   "outputs": [
    {
     "name": "stdout",
     "output_type": "stream",
     "text": [
      "              precision    recall  f1-score   support\n",
      "\n",
      "           0       0.97      0.91      0.94        80\n",
      "           1       0.84      0.95      0.89        40\n",
      "\n",
      "    accuracy                           0.93       120\n",
      "   macro avg       0.91      0.93      0.92       120\n",
      "weighted avg       0.93      0.93      0.93       120\n",
      "\n"
     ]
    }
   ],
   "source": [
    "print(classification_report(y_test, abc_predictions))"
   ]
  },
  {
   "cell_type": "markdown",
   "id": "e5071f60",
   "metadata": {},
   "source": [
    "3. ***Confusion Matrix***"
   ]
  },
  {
   "cell_type": "code",
   "execution_count": 62,
   "id": "56e6737e",
   "metadata": {},
   "outputs": [
    {
     "data": {
      "text/plain": [
       "Text(0.5, 1.0, 'Confusion Matrix')"
      ]
     },
     "execution_count": 62,
     "metadata": {},
     "output_type": "execute_result"
    },
    {
     "data": {
      "image/png": "[encoded data removed]",
      "text/plain": [
       "<Figure size 640x480 with 2 Axes>"
      ]
     },
     "metadata": {},
     "output_type": "display_data"
    }
   ],
   "source": [
    "sns.heatmap(confusion_matrix(y_test, abc_predictions), cmap='GnBu', annot = True)\n",
    "plt.title(\"Confusion Matrix\")"
   ]
  },
  {
   "cell_type": "markdown",
   "id": "bf162bd4",
   "metadata": {},
   "source": [
    "### ***Neural network artificial***\n",
    "\n",
    "[reference](https://keras.io/guides/sequential_model/)\n",
    "\n",
    "[reference](https://www.analyticsvidhya.com/blog/2020/02/cnn-vs-rnn-vs-mlp-analyzing-3-types-of-neural-networks-in-deep-learning/)"
   ]
  },
  {
   "cell_type": "markdown",
   "id": "abdbb19a",
   "metadata": {},
   "source": [
    "1. ***Create model***"
   ]
  },
  {
   "cell_type": "markdown",
   "id": "ea857d75",
   "metadata": {},
   "source": [
    "[Dense layers](https://www.tensorflow.org/api_docs/python/tf/keras/layers/Dense)\n",
    "\n",
    "[Dropout Layers](https://www.tensorflow.org/api_docs/python/tf/keras/layers/Dropout)"
   ]
  },
  {
   "cell_type": "code",
   "execution_count": 63,
   "id": "2cd29adb",
   "metadata": {},
   "outputs": [],
   "source": [
    "nna_model = Sequential()\n",
    "\n",
    "nna_model.add(Dense(units=30,activation='relu'))\n",
    "nna_model.add(Dropout(0.5))\n",
    "\n",
    "nna_model.add(Dense(units=15,activation='relu'))\n",
    "nna_model.add(Dropout(0.5))\n",
    "\n",
    "nna_model.add(Dense(units=1,activation='sigmoid'))\n",
    "\n",
    "nna_model.compile(loss='binary_crossentropy', optimizer='adam', metrics=[\"accuracy\"])"
   ]
  },
  {
   "cell_type": "markdown",
   "id": "caf153b6",
   "metadata": {},
   "source": [
    "[losses](https://keras.io/api/losses/)\n",
    "\n",
    "[adam](https://keras.io/api/optimizers/adam/)\n",
    "\n",
    "[optimizer](https://keras.io/api/optimizers/)"
   ]
  },
  {
   "cell_type": "markdown",
   "id": "1909748f",
   "metadata": {},
   "source": [
    "2. ***Early Stoping***\n",
    "\n",
    "[reference](https://machinelearningmastery.com/early-stopping-to-avoid-overtraining-neural-network-models/)"
   ]
  },
  {
   "cell_type": "code",
   "execution_count": 64,
   "id": "c15940a8",
   "metadata": {},
   "outputs": [],
   "source": [
    "early_stop = EarlyStopping(monitor='val_loss', patience = 2)"
   ]
  },
  {
   "cell_type": "markdown",
   "id": "f17e0313",
   "metadata": {},
   "source": [
    "3. ***Fit Model***"
   ]
  },
  {
   "cell_type": "code",
   "execution_count": 65,
   "id": "26ba3dfd",
   "metadata": {},
   "outputs": [
    {
     "name": "stdout",
     "output_type": "stream",
     "text": [
      "Epoch 1/200\n",
      "9/9 [==============================] - 0s 22ms/step - loss: 0.7131 - accuracy: 0.5607 - val_loss: 0.6877 - val_accuracy: 0.5750\n",
      "Epoch 2/200\n",
      "9/9 [==============================] - 0s 4ms/step - loss: 0.7012 - accuracy: 0.5321 - val_loss: 0.6775 - val_accuracy: 0.7000\n",
      "Epoch 3/200\n",
      "9/9 [==============================] - 0s 4ms/step - loss: 0.6976 - accuracy: 0.5464 - val_loss: 0.6698 - val_accuracy: 0.7083\n",
      "Epoch 4/200\n",
      "9/9 [==============================] - 0s 4ms/step - loss: 0.6733 - accuracy: 0.6000 - val_loss: 0.6632 - val_accuracy: 0.7167\n",
      "Epoch 5/200\n",
      "9/9 [==============================] - 0s 4ms/step - loss: 0.6706 - accuracy: 0.6321 - val_loss: 0.6565 - val_accuracy: 0.7083\n",
      "Epoch 6/200\n",
      "9/9 [==============================] - 0s 4ms/step - loss: 0.6845 - accuracy: 0.6214 - val_loss: 0.6513 - val_accuracy: 0.7083\n",
      "Epoch 7/200\n",
      "9/9 [==============================] - 0s 5ms/step - loss: 0.6784 - accuracy: 0.6214 - val_loss: 0.6463 - val_accuracy: 0.7083\n",
      "Epoch 8/200\n",
      "9/9 [==============================] - 0s 4ms/step - loss: 0.6761 - accuracy: 0.6179 - val_loss: 0.6423 - val_accuracy: 0.7083\n",
      "Epoch 9/200\n",
      "9/9 [==============================] - 0s 4ms/step - loss: 0.6471 - accuracy: 0.6821 - val_loss: 0.6371 - val_accuracy: 0.7083\n",
      "Epoch 10/200\n",
      "9/9 [==============================] - 0s 3ms/step - loss: 0.6693 - accuracy: 0.6214 - val_loss: 0.6308 - val_accuracy: 0.7083\n",
      "Epoch 11/200\n",
      "9/9 [==============================] - 0s 4ms/step - loss: 0.6737 - accuracy: 0.6500 - val_loss: 0.6261 - val_accuracy: 0.7083\n",
      "Epoch 12/200\n",
      "9/9 [==============================] - 0s 3ms/step - loss: 0.6343 - accuracy: 0.6786 - val_loss: 0.6189 - val_accuracy: 0.7083\n",
      "Epoch 13/200\n",
      "9/9 [==============================] - 0s 4ms/step - loss: 0.6615 - accuracy: 0.6429 - val_loss: 0.6130 - val_accuracy: 0.7083\n",
      "Epoch 14/200\n",
      "9/9 [==============================] - 0s 4ms/step - loss: 0.6458 - accuracy: 0.6964 - val_loss: 0.6082 - val_accuracy: 0.7083\n",
      "Epoch 15/200\n",
      "9/9 [==============================] - 0s 4ms/step - loss: 0.6263 - accuracy: 0.6786 - val_loss: 0.6037 - val_accuracy: 0.7000\n",
      "Epoch 16/200\n",
      "9/9 [==============================] - 0s 4ms/step - loss: 0.6521 - accuracy: 0.6607 - val_loss: 0.5985 - val_accuracy: 0.7000\n",
      "Epoch 17/200\n",
      "9/9 [==============================] - 0s 3ms/step - loss: 0.6334 - accuracy: 0.6714 - val_loss: 0.5922 - val_accuracy: 0.7000\n",
      "Epoch 18/200\n",
      "9/9 [==============================] - 0s 4ms/step - loss: 0.6527 - accuracy: 0.6679 - val_loss: 0.5867 - val_accuracy: 0.7000\n",
      "Epoch 19/200\n",
      "9/9 [==============================] - 0s 3ms/step - loss: 0.6266 - accuracy: 0.6750 - val_loss: 0.5824 - val_accuracy: 0.7000\n",
      "Epoch 20/200\n",
      "9/9 [==============================] - 0s 5ms/step - loss: 0.6116 - accuracy: 0.7036 - val_loss: 0.5769 - val_accuracy: 0.7083\n",
      "Epoch 21/200\n",
      "9/9 [==============================] - 0s 4ms/step - loss: 0.6366 - accuracy: 0.6750 - val_loss: 0.5728 - val_accuracy: 0.7083\n",
      "Epoch 22/200\n",
      "9/9 [==============================] - 0s 3ms/step - loss: 0.5997 - accuracy: 0.7250 - val_loss: 0.5682 - val_accuracy: 0.7333\n",
      "Epoch 23/200\n",
      "9/9 [==============================] - 0s 4ms/step - loss: 0.6135 - accuracy: 0.7000 - val_loss: 0.5616 - val_accuracy: 0.7333\n",
      "Epoch 24/200\n",
      "9/9 [==============================] - 0s 4ms/step - loss: 0.5952 - accuracy: 0.7393 - val_loss: 0.5560 - val_accuracy: 0.7500\n",
      "Epoch 25/200\n",
      "9/9 [==============================] - 0s 3ms/step - loss: 0.6069 - accuracy: 0.7214 - val_loss: 0.5500 - val_accuracy: 0.7583\n",
      "Epoch 26/200\n",
      "9/9 [==============================] - 0s 4ms/step - loss: 0.5895 - accuracy: 0.7321 - val_loss: 0.5444 - val_accuracy: 0.7750\n",
      "Epoch 27/200\n",
      "9/9 [==============================] - 0s 4ms/step - loss: 0.5765 - accuracy: 0.7464 - val_loss: 0.5379 - val_accuracy: 0.7917\n",
      "Epoch 28/200\n",
      "9/9 [==============================] - 0s 4ms/step - loss: 0.5973 - accuracy: 0.6821 - val_loss: 0.5310 - val_accuracy: 0.7833\n",
      "Epoch 29/200\n",
      "9/9 [==============================] - 0s 4ms/step - loss: 0.5665 - accuracy: 0.7286 - val_loss: 0.5240 - val_accuracy: 0.7833\n",
      "Epoch 30/200\n",
      "9/9 [==============================] - 0s 4ms/step - loss: 0.5961 - accuracy: 0.6929 - val_loss: 0.5179 - val_accuracy: 0.7833\n",
      "Epoch 31/200\n",
      "9/9 [==============================] - 0s 4ms/step - loss: 0.5827 - accuracy: 0.7107 - val_loss: 0.5130 - val_accuracy: 0.7833\n",
      "Epoch 32/200\n",
      "9/9 [==============================] - 0s 3ms/step - loss: 0.5647 - accuracy: 0.7571 - val_loss: 0.5076 - val_accuracy: 0.8250\n",
      "Epoch 33/200\n",
      "9/9 [==============================] - 0s 4ms/step - loss: 0.5719 - accuracy: 0.7143 - val_loss: 0.5030 - val_accuracy: 0.8500\n",
      "Epoch 34/200\n",
      "9/9 [==============================] - 0s 4ms/step - loss: 0.5677 - accuracy: 0.7321 - val_loss: 0.4981 - val_accuracy: 0.8583\n",
      "Epoch 35/200\n",
      "9/9 [==============================] - 0s 4ms/step - loss: 0.5725 - accuracy: 0.6786 - val_loss: 0.4926 - val_accuracy: 0.8500\n",
      "Epoch 36/200\n",
      "9/9 [==============================] - 0s 4ms/step - loss: 0.5408 - accuracy: 0.7607 - val_loss: 0.4872 - val_accuracy: 0.8583\n",
      "Epoch 37/200\n",
      "9/9 [==============================] - 0s 4ms/step - loss: 0.5631 - accuracy: 0.7393 - val_loss: 0.4820 - val_accuracy: 0.8583\n",
      "Epoch 38/200\n",
      "9/9 [==============================] - 0s 3ms/step - loss: 0.5537 - accuracy: 0.7429 - val_loss: 0.4775 - val_accuracy: 0.8750\n",
      "Epoch 39/200\n",
      "9/9 [==============================] - 0s 5ms/step - loss: 0.5447 - accuracy: 0.7464 - val_loss: 0.4719 - val_accuracy: 0.8750\n",
      "Epoch 40/200\n",
      "9/9 [==============================] - 0s 5ms/step - loss: 0.5325 - accuracy: 0.7750 - val_loss: 0.4662 - val_accuracy: 0.8750\n",
      "Epoch 41/200\n",
      "9/9 [==============================] - 0s 4ms/step - loss: 0.5256 - accuracy: 0.7786 - val_loss: 0.4607 - val_accuracy: 0.8667\n",
      "Epoch 42/200\n",
      "9/9 [==============================] - 0s 3ms/step - loss: 0.5406 - accuracy: 0.7464 - val_loss: 0.4559 - val_accuracy: 0.8667\n",
      "Epoch 43/200\n",
      "9/9 [==============================] - 0s 3ms/step - loss: 0.5438 - accuracy: 0.7500 - val_loss: 0.4508 - val_accuracy: 0.8667\n",
      "Epoch 44/200\n",
      "9/9 [==============================] - 0s 4ms/step - loss: 0.5515 - accuracy: 0.7571 - val_loss: 0.4471 - val_accuracy: 0.8667\n",
      "Epoch 45/200\n",
      "9/9 [==============================] - 0s 3ms/step - loss: 0.5316 - accuracy: 0.7786 - val_loss: 0.4438 - val_accuracy: 0.8667\n",
      "Epoch 46/200\n",
      "9/9 [==============================] - 0s 4ms/step - loss: 0.5076 - accuracy: 0.7929 - val_loss: 0.4395 - val_accuracy: 0.8667\n",
      "Epoch 47/200\n",
      "9/9 [==============================] - 0s 4ms/step - loss: 0.5161 - accuracy: 0.7643 - val_loss: 0.4328 - val_accuracy: 0.8750\n",
      "Epoch 48/200\n",
      "9/9 [==============================] - 0s 4ms/step - loss: 0.4850 - accuracy: 0.7893 - val_loss: 0.4260 - val_accuracy: 0.8750\n",
      "Epoch 49/200\n",
      "9/9 [==============================] - 0s 4ms/step - loss: 0.5353 - accuracy: 0.7607 - val_loss: 0.4208 - val_accuracy: 0.8750\n",
      "Epoch 50/200\n",
      "9/9 [==============================] - 0s 4ms/step - loss: 0.5045 - accuracy: 0.7464 - val_loss: 0.4173 - val_accuracy: 0.8833\n",
      "Epoch 51/200\n",
      "9/9 [==============================] - 0s 4ms/step - loss: 0.4922 - accuracy: 0.7857 - val_loss: 0.4119 - val_accuracy: 0.8833\n",
      "Epoch 52/200\n",
      "9/9 [==============================] - 0s 4ms/step - loss: 0.5109 - accuracy: 0.7429 - val_loss: 0.4063 - val_accuracy: 0.8917\n",
      "Epoch 53/200\n",
      "9/9 [==============================] - 0s 19ms/step - loss: 0.5292 - accuracy: 0.7536 - val_loss: 0.4023 - val_accuracy: 0.9167\n",
      "Epoch 54/200\n",
      "9/9 [==============================] - 0s 4ms/step - loss: 0.4843 - accuracy: 0.7750 - val_loss: 0.3988 - val_accuracy: 0.9083\n",
      "Epoch 55/200\n",
      "9/9 [==============================] - 0s 4ms/step - loss: 0.4611 - accuracy: 0.8464 - val_loss: 0.3939 - val_accuracy: 0.9083\n",
      "Epoch 56/200\n",
      "9/9 [==============================] - 0s 3ms/step - loss: 0.5050 - accuracy: 0.7643 - val_loss: 0.3874 - val_accuracy: 0.9250\n",
      "Epoch 57/200\n",
      "9/9 [==============================] - 0s 4ms/step - loss: 0.4804 - accuracy: 0.7893 - val_loss: 0.3816 - val_accuracy: 0.9250\n",
      "Epoch 58/200\n",
      "9/9 [==============================] - 0s 4ms/step - loss: 0.4501 - accuracy: 0.8036 - val_loss: 0.3750 - val_accuracy: 0.9250\n",
      "Epoch 59/200\n"
     ]
    },
    {
     "name": "stdout",
     "output_type": "stream",
     "text": [
      "9/9 [==============================] - 0s 4ms/step - loss: 0.4771 - accuracy: 0.7679 - val_loss: 0.3707 - val_accuracy: 0.9250\n",
      "Epoch 60/200\n",
      "9/9 [==============================] - 0s 4ms/step - loss: 0.4660 - accuracy: 0.7679 - val_loss: 0.3663 - val_accuracy: 0.9333\n",
      "Epoch 61/200\n",
      "9/9 [==============================] - 0s 4ms/step - loss: 0.4699 - accuracy: 0.7857 - val_loss: 0.3604 - val_accuracy: 0.9333\n",
      "Epoch 62/200\n",
      "9/9 [==============================] - 0s 4ms/step - loss: 0.4453 - accuracy: 0.8179 - val_loss: 0.3551 - val_accuracy: 0.9333\n",
      "Epoch 63/200\n",
      "9/9 [==============================] - 0s 4ms/step - loss: 0.4554 - accuracy: 0.8250 - val_loss: 0.3539 - val_accuracy: 0.9250\n",
      "Epoch 64/200\n",
      "9/9 [==============================] - 0s 4ms/step - loss: 0.4812 - accuracy: 0.7821 - val_loss: 0.3494 - val_accuracy: 0.9250\n",
      "Epoch 65/200\n",
      "9/9 [==============================] - 0s 3ms/step - loss: 0.4280 - accuracy: 0.8321 - val_loss: 0.3436 - val_accuracy: 0.9250\n",
      "Epoch 66/200\n",
      "9/9 [==============================] - 0s 3ms/step - loss: 0.4392 - accuracy: 0.8321 - val_loss: 0.3376 - val_accuracy: 0.9250\n",
      "Epoch 67/200\n",
      "9/9 [==============================] - 0s 4ms/step - loss: 0.4524 - accuracy: 0.7964 - val_loss: 0.3360 - val_accuracy: 0.9250\n",
      "Epoch 68/200\n",
      "9/9 [==============================] - 0s 4ms/step - loss: 0.4237 - accuracy: 0.8321 - val_loss: 0.3356 - val_accuracy: 0.9250\n",
      "Epoch 69/200\n",
      "9/9 [==============================] - 0s 4ms/step - loss: 0.4265 - accuracy: 0.8214 - val_loss: 0.3320 - val_accuracy: 0.9250\n",
      "Epoch 70/200\n",
      "9/9 [==============================] - 0s 3ms/step - loss: 0.4509 - accuracy: 0.8250 - val_loss: 0.3277 - val_accuracy: 0.9250\n",
      "Epoch 71/200\n",
      "9/9 [==============================] - 0s 4ms/step - loss: 0.4245 - accuracy: 0.8179 - val_loss: 0.3227 - val_accuracy: 0.9250\n",
      "Epoch 72/200\n",
      "9/9 [==============================] - 0s 4ms/step - loss: 0.4363 - accuracy: 0.8071 - val_loss: 0.3219 - val_accuracy: 0.9250\n",
      "Epoch 73/200\n",
      "9/9 [==============================] - 0s 4ms/step - loss: 0.4196 - accuracy: 0.8429 - val_loss: 0.3211 - val_accuracy: 0.9250\n",
      "Epoch 74/200\n",
      "9/9 [==============================] - 0s 3ms/step - loss: 0.4113 - accuracy: 0.8250 - val_loss: 0.3184 - val_accuracy: 0.9250\n",
      "Epoch 75/200\n",
      "9/9 [==============================] - 0s 3ms/step - loss: 0.4225 - accuracy: 0.8214 - val_loss: 0.3130 - val_accuracy: 0.9250\n",
      "Epoch 76/200\n",
      "9/9 [==============================] - 0s 4ms/step - loss: 0.4271 - accuracy: 0.8143 - val_loss: 0.3085 - val_accuracy: 0.9250\n",
      "Epoch 77/200\n",
      "9/9 [==============================] - 0s 5ms/step - loss: 0.4345 - accuracy: 0.7929 - val_loss: 0.3054 - val_accuracy: 0.9250\n",
      "Epoch 78/200\n",
      "9/9 [==============================] - 0s 3ms/step - loss: 0.4220 - accuracy: 0.8357 - val_loss: 0.3041 - val_accuracy: 0.9167\n",
      "Epoch 79/200\n",
      "9/9 [==============================] - 0s 4ms/step - loss: 0.4338 - accuracy: 0.8321 - val_loss: 0.3024 - val_accuracy: 0.9167\n",
      "Epoch 80/200\n",
      "9/9 [==============================] - 0s 3ms/step - loss: 0.4221 - accuracy: 0.8286 - val_loss: 0.3013 - val_accuracy: 0.9167\n",
      "Epoch 81/200\n",
      "9/9 [==============================] - 0s 3ms/step - loss: 0.4327 - accuracy: 0.8286 - val_loss: 0.2983 - val_accuracy: 0.9167\n",
      "Epoch 82/200\n",
      "9/9 [==============================] - 0s 4ms/step - loss: 0.3956 - accuracy: 0.8536 - val_loss: 0.2962 - val_accuracy: 0.9167\n",
      "Epoch 83/200\n",
      "9/9 [==============================] - 0s 4ms/step - loss: 0.3805 - accuracy: 0.8679 - val_loss: 0.2991 - val_accuracy: 0.9250\n",
      "Epoch 84/200\n",
      "9/9 [==============================] - 0s 3ms/step - loss: 0.4049 - accuracy: 0.8321 - val_loss: 0.2962 - val_accuracy: 0.9250\n",
      "Epoch 85/200\n",
      "9/9 [==============================] - 0s 3ms/step - loss: 0.4457 - accuracy: 0.8107 - val_loss: 0.2902 - val_accuracy: 0.9250\n",
      "Epoch 86/200\n",
      "9/9 [==============================] - 0s 4ms/step - loss: 0.3770 - accuracy: 0.8500 - val_loss: 0.2884 - val_accuracy: 0.9250\n",
      "Epoch 87/200\n",
      "9/9 [==============================] - 0s 4ms/step - loss: 0.3674 - accuracy: 0.8679 - val_loss: 0.2833 - val_accuracy: 0.9167\n",
      "Epoch 88/200\n",
      "9/9 [==============================] - 0s 4ms/step - loss: 0.4163 - accuracy: 0.8143 - val_loss: 0.2832 - val_accuracy: 0.9250\n",
      "Epoch 89/200\n",
      "9/9 [==============================] - 0s 5ms/step - loss: 0.3900 - accuracy: 0.8429 - val_loss: 0.2856 - val_accuracy: 0.9250\n",
      "Epoch 90/200\n",
      "9/9 [==============================] - 0s 4ms/step - loss: 0.3799 - accuracy: 0.8286 - val_loss: 0.2850 - val_accuracy: 0.9250\n"
     ]
    },
    {
     "data": {
      "text/plain": [
       "<tensorflow.python.keras.callbacks.History at 0x1c2367f7d30>"
      ]
     },
     "execution_count": 65,
     "metadata": {},
     "output_type": "execute_result"
    }
   ],
   "source": [
    "nna_model.fit(X_train, \n",
    "          y_train, \n",
    "          epochs=200,\n",
    "          validation_data=(X_test, y_test), verbose=1,\n",
    "          callbacks=[early_stop]\n",
    "      )"
   ]
  },
  {
   "cell_type": "code",
   "execution_count": 66,
   "id": "460cdfff",
   "metadata": {},
   "outputs": [
    {
     "name": "stdout",
     "output_type": "stream",
     "text": [
      "Model: \"sequential\"\n",
      "_________________________________________________________________\n",
      "Layer (type)                 Output Shape              Param #   \n",
      "=================================================================\n",
      "dense (Dense)                (None, 30)                120       \n",
      "_________________________________________________________________\n",
      "dropout (Dropout)            (None, 30)                0         \n",
      "_________________________________________________________________\n",
      "dense_1 (Dense)              (None, 15)                465       \n",
      "_________________________________________________________________\n",
      "dropout_1 (Dropout)          (None, 15)                0         \n",
      "_________________________________________________________________\n",
      "dense_2 (Dense)              (None, 1)                 16        \n",
      "=================================================================\n",
      "Total params: 601\n",
      "Trainable params: 601\n",
      "Non-trainable params: 0\n",
      "_________________________________________________________________\n"
     ]
    }
   ],
   "source": [
    "# resumé du model\n",
    "nna_model.summary()"
   ]
  },
  {
   "cell_type": "markdown",
   "id": "c23658cd",
   "metadata": {},
   "source": [
    "4. ***Loss and validation functions***"
   ]
  },
  {
   "cell_type": "code",
   "execution_count": 67,
   "id": "fcd87579",
   "metadata": {},
   "outputs": [
    {
     "data": {
      "text/html": [
       "<div>\n",
       "<style scoped>\n",
       "    .dataframe tbody tr th:only-of-type {\n",
       "        vertical-align: middle;\n",
       "    }\n",
       "\n",
       "    .dataframe tbody tr th {\n",
       "        vertical-align: top;\n",
       "    }\n",
       "\n",
       "    .dataframe thead th {\n",
       "        text-align: right;\n",
       "    }\n",
       "</style>\n",
       "<table border=\"1\" class=\"dataframe\">\n",
       "  <thead>\n",
       "    <tr style=\"text-align: right;\">\n",
       "      <th></th>\n",
       "      <th>loss</th>\n",
       "      <th>accuracy</th>\n",
       "      <th>val_loss</th>\n",
       "      <th>val_accuracy</th>\n",
       "    </tr>\n",
       "  </thead>\n",
       "  <tbody>\n",
       "    <tr>\n",
       "      <th>0</th>\n",
       "      <td>0.713079</td>\n",
       "      <td>0.560714</td>\n",
       "      <td>0.687746</td>\n",
       "      <td>0.575000</td>\n",
       "    </tr>\n",
       "    <tr>\n",
       "      <th>1</th>\n",
       "      <td>0.701183</td>\n",
       "      <td>0.532143</td>\n",
       "      <td>0.677487</td>\n",
       "      <td>0.700000</td>\n",
       "    </tr>\n",
       "    <tr>\n",
       "      <th>2</th>\n",
       "      <td>0.697553</td>\n",
       "      <td>0.546429</td>\n",
       "      <td>0.669788</td>\n",
       "      <td>0.708333</td>\n",
       "    </tr>\n",
       "    <tr>\n",
       "      <th>3</th>\n",
       "      <td>0.673329</td>\n",
       "      <td>0.600000</td>\n",
       "      <td>0.663231</td>\n",
       "      <td>0.716667</td>\n",
       "    </tr>\n",
       "    <tr>\n",
       "      <th>4</th>\n",
       "      <td>0.670578</td>\n",
       "      <td>0.632143</td>\n",
       "      <td>0.656512</td>\n",
       "      <td>0.708333</td>\n",
       "    </tr>\n",
       "  </tbody>\n",
       "</table>\n",
       "</div>"
      ],
      "text/plain": [
       "       loss  accuracy  val_loss  val_accuracy\n",
       "0  0.713079  0.560714  0.687746      0.575000\n",
       "1  0.701183  0.532143  0.677487      0.700000\n",
       "2  0.697553  0.546429  0.669788      0.708333\n",
       "3  0.673329  0.600000  0.663231      0.716667\n",
       "4  0.670578  0.632143  0.656512      0.708333"
      ]
     },
     "execution_count": 67,
     "metadata": {},
     "output_type": "execute_result"
    }
   ],
   "source": [
    "model_loss = pd.DataFrame(nna_model.history.history)\n",
    "model_loss.head()"
   ]
  },
  {
   "cell_type": "code",
   "execution_count": 68,
   "id": "2f656c47",
   "metadata": {},
   "outputs": [
    {
     "data": {
      "image/png": "[encoded data removed]",
      "text/plain": [
       "<Figure size 640x480 with 1 Axes>"
      ]
     },
     "metadata": {},
     "output_type": "display_data"
    }
   ],
   "source": [
    "model_loss[[\"loss\", \"val_loss\"]].plot();"
   ]
  },
  {
   "cell_type": "code",
   "execution_count": 69,
   "id": "f8621dce",
   "metadata": {},
   "outputs": [
    {
     "data": {
      "image/png": "[encoded data removed]",
      "text/plain": [
       "<Figure size 640x480 with 1 Axes>"
      ]
     },
     "metadata": {},
     "output_type": "display_data"
    }
   ],
   "source": [
    "model_loss[[\"accuracy\", \"val_accuracy\"]].plot();"
   ]
  },
  {
   "cell_type": "markdown",
   "id": "cbfa382c",
   "metadata": {},
   "source": [
    "***Evaluate model***"
   ]
  },
  {
   "cell_type": "code",
   "execution_count": 70,
   "id": "90950ba5",
   "metadata": {},
   "outputs": [],
   "source": [
    "nna_predictions = (nna_model.predict(X_test) > 0.5).astype(\"int32\")"
   ]
  },
  {
   "cell_type": "code",
   "execution_count": 71,
   "id": "e57059d9",
   "metadata": {},
   "outputs": [
    {
     "name": "stdout",
     "output_type": "stream",
     "text": [
      "              precision    recall  f1-score   support\n",
      "\n",
      "           0       0.96      0.93      0.94        80\n",
      "           1       0.86      0.93      0.89        40\n",
      "\n",
      "    accuracy                           0.93       120\n",
      "   macro avg       0.91      0.93      0.92       120\n",
      "weighted avg       0.93      0.93      0.93       120\n",
      "\n"
     ]
    }
   ],
   "source": [
    "# https://en.wikipedia.org/wiki/Precision_and_recall\n",
    "print(classification_report(y_test,nna_predictions))"
   ]
  },
  {
   "cell_type": "code",
   "execution_count": 72,
   "id": "a8376127",
   "metadata": {},
   "outputs": [
    {
     "data": {
      "text/plain": [
       "Text(0.5, 1.0, 'Confusion Matrix')"
      ]
     },
     "execution_count": 72,
     "metadata": {},
     "output_type": "execute_result"
    },
    {
     "data": {
      "image/png": "[encoded data removed]",
      "text/plain": [
       "<Figure size 640x480 with 2 Axes>"
      ]
     },
     "metadata": {},
     "output_type": "display_data"
    }
   ],
   "source": [
    "sns.heatmap(confusion_matrix(y_test, nna_predictions), cmap='GnBu', annot = True)\n",
    "plt.title(\"Confusion Matrix\")"
   ]
  },
  {
   "cell_type": "markdown",
   "id": "0b05bf67",
   "metadata": {},
   "source": [
    "### ***Model performance comparison***"
   ]
  },
  {
   "cell_type": "code",
   "execution_count": 73,
   "id": "c93512ba",
   "metadata": {},
   "outputs": [],
   "source": [
    "dict = {\"Logistic Regression\" : [0.84, 0.65, 0.73, 0.84], \"Support Vector Machines\" : [0.83, 0.95, 0.88, 0.92], \"K Neighbors Classifier\" : [0.87, 0.97, 0.92, 0.94 ], \"Random Forest Classifier\" : [0.81, 0.97, 0.89, 0.92], \"AdaBoost Classifier\": [0.84, 0.95, 0.89, 0.93], \"Neural network artificial\" : [0.82, 0.93, 0.87, 0.91]}"
   ]
  },
  {
   "cell_type": "code",
   "execution_count": 74,
   "id": "afdbd988",
   "metadata": {},
   "outputs": [
    {
     "data": {
      "text/html": [
       "<div>\n",
       "<style scoped>\n",
       "    .dataframe tbody tr th:only-of-type {\n",
       "        vertical-align: middle;\n",
       "    }\n",
       "\n",
       "    .dataframe tbody tr th {\n",
       "        vertical-align: top;\n",
       "    }\n",
       "\n",
       "    .dataframe thead th {\n",
       "        text-align: right;\n",
       "    }\n",
       "</style>\n",
       "<table border=\"1\" class=\"dataframe\">\n",
       "  <thead>\n",
       "    <tr style=\"text-align: right;\">\n",
       "      <th></th>\n",
       "      <th>Logistic Regression</th>\n",
       "      <th>Support Vector Machines</th>\n",
       "      <th>K Neighbors Classifier</th>\n",
       "      <th>Random Forest Classifier</th>\n",
       "      <th>AdaBoost Classifier</th>\n",
       "      <th>Neural network artificial</th>\n",
       "    </tr>\n",
       "  </thead>\n",
       "  <tbody>\n",
       "    <tr>\n",
       "      <th>precision</th>\n",
       "      <td>0.84</td>\n",
       "      <td>0.83</td>\n",
       "      <td>0.87</td>\n",
       "      <td>0.81</td>\n",
       "      <td>0.84</td>\n",
       "      <td>0.82</td>\n",
       "    </tr>\n",
       "    <tr>\n",
       "      <th>recall</th>\n",
       "      <td>0.65</td>\n",
       "      <td>0.95</td>\n",
       "      <td>0.97</td>\n",
       "      <td>0.97</td>\n",
       "      <td>0.95</td>\n",
       "      <td>0.93</td>\n",
       "    </tr>\n",
       "    <tr>\n",
       "      <th>f1-score</th>\n",
       "      <td>0.73</td>\n",
       "      <td>0.88</td>\n",
       "      <td>0.92</td>\n",
       "      <td>0.89</td>\n",
       "      <td>0.89</td>\n",
       "      <td>0.87</td>\n",
       "    </tr>\n",
       "    <tr>\n",
       "      <th>accuracy</th>\n",
       "      <td>0.84</td>\n",
       "      <td>0.92</td>\n",
       "      <td>0.94</td>\n",
       "      <td>0.92</td>\n",
       "      <td>0.93</td>\n",
       "      <td>0.91</td>\n",
       "    </tr>\n",
       "  </tbody>\n",
       "</table>\n",
       "</div>"
      ],
      "text/plain": [
       "           Logistic Regression  Support Vector Machines  \\\n",
       "precision                 0.84                     0.83   \n",
       "recall                    0.65                     0.95   \n",
       "f1-score                  0.73                     0.88   \n",
       "accuracy                  0.84                     0.92   \n",
       "\n",
       "           K Neighbors Classifier  Random Forest Classifier  \\\n",
       "precision                    0.87                      0.81   \n",
       "recall                       0.97                      0.97   \n",
       "f1-score                     0.92                      0.89   \n",
       "accuracy                     0.94                      0.92   \n",
       "\n",
       "           AdaBoost Classifier  Neural network artificial  \n",
       "precision                 0.84                       0.82  \n",
       "recall                    0.95                       0.93  \n",
       "f1-score                  0.89                       0.87  \n",
       "accuracy                  0.93                       0.91  "
      ]
     },
     "execution_count": 74,
     "metadata": {},
     "output_type": "execute_result"
    }
   ],
   "source": [
    "pd.DataFrame(dict, index = [\"precision\", \"recall\", \"f1-score\", \"accuracy\"])"
   ]
  },
  {
   "cell_type": "markdown",
   "id": "27f2aba4",
   "metadata": {},
   "source": [
    "We note that the knn model is the most efficient model. We will therefore save this model for future predictions on new data. \n",
    "\n",
    "In the meantime, we will retrieve a random client from our data to test the prediction of the chosen model."
   ]
  },
  {
   "cell_type": "markdown",
   "id": "b76e6766",
   "metadata": {},
   "source": [
    "### ***Predict whether a randomly selected person in the dataset buys the product or not***\n",
    "\n",
    "We use the model that has the best performance to make this prediction (knn_model)"
   ]
  },
  {
   "cell_type": "markdown",
   "id": "42a1068b",
   "metadata": {},
   "source": [
    "***Looking for a customer in the dataset***"
   ]
  },
  {
   "cell_type": "code",
   "execution_count": 75,
   "id": "8e77fd0e",
   "metadata": {},
   "outputs": [
    {
     "data": {
      "text/plain": [
       "Gender                  1\n",
       "Age                    43\n",
       "EstimatedSalary    112000\n",
       "Name: 297, dtype: int64"
      ]
     },
     "execution_count": 75,
     "metadata": {},
     "output_type": "execute_result"
    }
   ],
   "source": [
    "import random\n",
    "random.seed(101)\n",
    "random_ind = random.randint(0,len(data))\n",
    "\n",
    "single_customer = data.drop('Purchased',axis=1).iloc[random_ind]\n",
    "single_customer"
   ]
  },
  {
   "cell_type": "markdown",
   "id": "dbd7fdbb",
   "metadata": {},
   "source": [
    "***Scaling row***"
   ]
  },
  {
   "cell_type": "code",
   "execution_count": 76,
   "id": "d2a386c4",
   "metadata": {},
   "outputs": [
    {
     "name": "stderr",
     "output_type": "stream",
     "text": [
      "C:\\Users\\HP\\anaconda3\\envs\\Data_Science_Projects\\lib\\site-packages\\sklearn\\base.py:464: UserWarning: X does not have valid feature names, but MinMaxScaler was fitted with feature names\n",
      "  warnings.warn(\n"
     ]
    }
   ],
   "source": [
    "single_customer = scaler.transform(single_customer.values.reshape(-1, 3))"
   ]
  },
  {
   "cell_type": "markdown",
   "id": "35bd67e6",
   "metadata": {},
   "source": [
    "***Predict which customer it is***"
   ]
  },
  {
   "cell_type": "code",
   "execution_count": 77,
   "id": "479b7f7d",
   "metadata": {},
   "outputs": [
    {
     "data": {
      "text/plain": [
       "array([1], dtype=int64)"
      ]
     },
     "execution_count": 77,
     "metadata": {},
     "output_type": "execute_result"
    }
   ],
   "source": [
    "knn_model.predict(single_customer)"
   ]
  },
  {
   "cell_type": "markdown",
   "id": "ef49bca2",
   "metadata": {},
   "source": [
    "This is a customer who purchased the product"
   ]
  },
  {
   "cell_type": "markdown",
   "id": "00ab8516",
   "metadata": {},
   "source": [
    "***Check prediction***"
   ]
  },
  {
   "cell_type": "code",
   "execution_count": 78,
   "id": "64135a32",
   "metadata": {},
   "outputs": [
    {
     "data": {
      "text/plain": [
       "1"
      ]
     },
     "execution_count": 78,
     "metadata": {},
     "output_type": "execute_result"
    }
   ],
   "source": [
    "data.iloc[random_ind]['Purchased']"
   ]
  },
  {
   "cell_type": "markdown",
   "id": "b92a1018",
   "metadata": {},
   "source": [
    "Our model indeed predicts that this chosen person buys the product, which also corresponds to reality."
   ]
  },
  {
   "cell_type": "markdown",
   "id": "aa29fb3d",
   "metadata": {},
   "source": [
    "We found the most efficient model (KNN) that will allow us to make future predictions on new data that our model did not know. The above prediction on a sample of customers gave conclusive results. This KNN model is ready for deployment. It was saved, it was enough to download it to make new predictions. "
   ]
  },
  {
   "cell_type": "markdown",
   "id": "1ac1068f",
   "metadata": {},
   "source": [
    "## ------------------------------------------------------------------------------------------------------------------------------"
   ]
  },
  {
   "cell_type": "markdown",
   "id": "975d41a9",
   "metadata": {},
   "source": [
    "# Dployument in production"
   ]
  },
  {
   "cell_type": "markdown",
   "id": "d299f052",
   "metadata": {},
   "source": [
    "### **Train the model on all data (X)**"
   ]
  },
  {
   "cell_type": "code",
   "execution_count": 79,
   "id": "3b6c92c4",
   "metadata": {},
   "outputs": [],
   "source": [
    "X_scaled = scaler.fit_transform(X)"
   ]
  },
  {
   "cell_type": "code",
   "execution_count": 80,
   "id": "66d38321",
   "metadata": {},
   "outputs": [],
   "source": [
    "knn_model = KNeighborsClassifier()"
   ]
  },
  {
   "cell_type": "code",
   "execution_count": 81,
   "id": "08b88ee6",
   "metadata": {},
   "outputs": [
    {
     "data": {
      "text/html": [
       "<style>#sk-container-id-6 {color: black;}#sk-container-id-6 pre{padding: 0;}#sk-container-id-6 div.sk-toggleable {background-color: white;}#sk-container-id-6 label.sk-toggleable__label {cursor: pointer;display: block;width: 100%;margin-bottom: 0;padding: 0.3em;box-sizing: border-box;text-align: center;}#sk-container-id-6 label.sk-toggleable__label-arrow:before {content: \"▸\";float: left;margin-right: 0.25em;color: #696969;}#sk-container-id-6 label.sk-toggleable__label-arrow:hover:before {color: black;}#sk-container-id-6 div.sk-estimator:hover label.sk-toggleable__label-arrow:before {color: black;}#sk-container-id-6 div.sk-toggleable__content {max-height: 0;max-width: 0;overflow: hidden;text-align: left;background-color: #f0f8ff;}#sk-container-id-6 div.sk-toggleable__content pre {margin: 0.2em;color: black;border-radius: 0.25em;background-color: #f0f8ff;}#sk-container-id-6 input.sk-toggleable__control:checked~div.sk-toggleable__content {max-height: 200px;max-width: 100%;overflow: auto;}#sk-container-id-6 input.sk-toggleable__control:checked~label.sk-toggleable__label-arrow:before {content: \"▾\";}#sk-container-id-6 div.sk-estimator input.sk-toggleable__control:checked~label.sk-toggleable__label {background-color: #d4ebff;}#sk-container-id-6 div.sk-label input.sk-toggleable__control:checked~label.sk-toggleable__label {background-color: #d4ebff;}#sk-container-id-6 input.sk-hidden--visually {border: 0;clip: rect(1px 1px 1px 1px);clip: rect(1px, 1px, 1px, 1px);height: 1px;margin: -1px;overflow: hidden;padding: 0;position: absolute;width: 1px;}#sk-container-id-6 div.sk-estimator {font-family: monospace;background-color: #f0f8ff;border: 1px dotted black;border-radius: 0.25em;box-sizing: border-box;margin-bottom: 0.5em;}#sk-container-id-6 div.sk-estimator:hover {background-color: #d4ebff;}#sk-container-id-6 div.sk-parallel-item::after {content: \"\";width: 100%;border-bottom: 1px solid gray;flex-grow: 1;}#sk-container-id-6 div.sk-label:hover label.sk-toggleable__label {background-color: #d4ebff;}#sk-container-id-6 div.sk-serial::before {content: \"\";position: absolute;border-left: 1px solid gray;box-sizing: border-box;top: 0;bottom: 0;left: 50%;z-index: 0;}#sk-container-id-6 div.sk-serial {display: flex;flex-direction: column;align-items: center;background-color: white;padding-right: 0.2em;padding-left: 0.2em;position: relative;}#sk-container-id-6 div.sk-item {position: relative;z-index: 1;}#sk-container-id-6 div.sk-parallel {display: flex;align-items: stretch;justify-content: center;background-color: white;position: relative;}#sk-container-id-6 div.sk-item::before, #sk-container-id-6 div.sk-parallel-item::before {content: \"\";position: absolute;border-left: 1px solid gray;box-sizing: border-box;top: 0;bottom: 0;left: 50%;z-index: -1;}#sk-container-id-6 div.sk-parallel-item {display: flex;flex-direction: column;z-index: 1;position: relative;background-color: white;}#sk-container-id-6 div.sk-parallel-item:first-child::after {align-self: flex-end;width: 50%;}#sk-container-id-6 div.sk-parallel-item:last-child::after {align-self: flex-start;width: 50%;}#sk-container-id-6 div.sk-parallel-item:only-child::after {width: 0;}#sk-container-id-6 div.sk-dashed-wrapped {border: 1px dashed gray;margin: 0 0.4em 0.5em 0.4em;box-sizing: border-box;padding-bottom: 0.4em;background-color: white;}#sk-container-id-6 div.sk-label label {font-family: monospace;font-weight: bold;display: inline-block;line-height: 1.2em;}#sk-container-id-6 div.sk-label-container {text-align: center;}#sk-container-id-6 div.sk-container {/* jupyter's `normalize.less` sets `[hidden] { display: none; }` but bootstrap.min.css set `[hidden] { display: none !important; }` so we also need the `!important` here to be able to override the default hidden behavior on the sphinx rendered scikit-learn.org. See: https://github.com/scikit-learn/scikit-learn/issues/21755 */display: inline-block !important;position: relative;}#sk-container-id-6 div.sk-text-repr-fallback {display: none;}</style><div id=\"sk-container-id-6\" class=\"sk-top-container\"><div class=\"sk-text-repr-fallback\"><pre>KNeighborsClassifier()</pre><b>In a Jupyter environment, please rerun this cell to show the HTML representation or trust the notebook. <br />On GitHub, the HTML representation is unable to render, please try loading this page with nbviewer.org.</b></div><div class=\"sk-container\" hidden><div class=\"sk-item\"><div class=\"sk-estimator sk-toggleable\"><input class=\"sk-toggleable__control sk-hidden--visually\" id=\"sk-estimator-id-6\" type=\"checkbox\" checked><label for=\"sk-estimator-id-6\" class=\"sk-toggleable__label sk-toggleable__label-arrow\">KNeighborsClassifier</label><div class=\"sk-toggleable__content\"><pre>KNeighborsClassifier()</pre></div></div></div></div></div>"
      ],
      "text/plain": [
       "KNeighborsClassifier()"
      ]
     },
     "execution_count": 81,
     "metadata": {},
     "output_type": "execute_result"
    }
   ],
   "source": [
    "knn_model.fit(X_scaled, y.values)"
   ]
  },
  {
   "cell_type": "code",
   "execution_count": 83,
   "id": "96c9d08b",
   "metadata": {},
   "outputs": [
    {
     "data": {
      "text/plain": [
       "0.915"
      ]
     },
     "execution_count": 83,
     "metadata": {},
     "output_type": "execute_result"
    }
   ],
   "source": [
    "knn_model.score(X_scaled, y.values)"
   ]
  },
  {
   "cell_type": "markdown",
   "id": "70d464de",
   "metadata": {},
   "source": [
    "## Serialization\n",
    "\n",
    "**[reference](https://flynn.gg/blog/machine-learning-model-serialization/)**"
   ]
  },
  {
   "cell_type": "markdown",
   "id": "c2dd172c",
   "metadata": {},
   "source": [
    "### **Save the model and scaler object**"
   ]
  },
  {
   "cell_type": "code",
   "execution_count": 84,
   "id": "8076ec9e",
   "metadata": {},
   "outputs": [
    {
     "data": {
      "text/plain": [
       "['scaler_customer.pkl']"
      ]
     },
     "execution_count": 84,
     "metadata": {},
     "output_type": "execute_result"
    }
   ],
   "source": [
    "import joblib\n",
    "\n",
    "joblib.dump(knn_model, 'knn_model.pkl')\n",
    "joblib.dump(scaler, \"scaler_customer.pkl\")"
   ]
  },
  {
   "cell_type": "markdown",
   "id": "bcae915d",
   "metadata": {},
   "source": [
    "### **Load the model and scaler object (deserialize)**"
   ]
  },
  {
   "cell_type": "code",
   "execution_count": 85,
   "id": "a230e9cf",
   "metadata": {},
   "outputs": [],
   "source": [
    "model  = joblib.load('knn_model.pkl')\n",
    "\n",
    "scaler = joblib.load(\"scaler_customer.pkl\")"
   ]
  },
  {
   "cell_type": "markdown",
   "id": "8f682afc",
   "metadata": {},
   "source": [
    "## Test a prediction"
   ]
  },
  {
   "cell_type": "code",
   "execution_count": 86,
   "id": "e0c9db27",
   "metadata": {},
   "outputs": [
    {
     "data": {
      "text/plain": [
       "Gender                  1\n",
       "Age                    43\n",
       "EstimatedSalary    112000\n",
       "Name: 297, dtype: int64"
      ]
     },
     "execution_count": 86,
     "metadata": {},
     "output_type": "execute_result"
    }
   ],
   "source": [
    "import random\n",
    "random.seed(101)\n",
    "random_ind = random.randint(0,len(data))\n",
    "\n",
    "single_customer = data.drop('Purchased',axis=1).iloc[random_ind]\n",
    "single_customer"
   ]
  },
  {
   "cell_type": "code",
   "execution_count": 87,
   "id": "8abf3cea",
   "metadata": {},
   "outputs": [
    {
     "name": "stderr",
     "output_type": "stream",
     "text": [
      "C:\\Users\\HP\\anaconda3\\envs\\Data_Science_Projects\\lib\\site-packages\\sklearn\\base.py:464: UserWarning: X does not have valid feature names, but MinMaxScaler was fitted with feature names\n",
      "  warnings.warn(\n"
     ]
    }
   ],
   "source": [
    "single_customer = scaler.transform(single_customer.values.reshape(-1, 3))"
   ]
  },
  {
   "cell_type": "code",
   "execution_count": 88,
   "id": "db52d8a6",
   "metadata": {},
   "outputs": [
    {
     "data": {
      "text/plain": [
       "array([1], dtype=int64)"
      ]
     },
     "execution_count": 88,
     "metadata": {},
     "output_type": "execute_result"
    }
   ],
   "source": [
    "knn_model.predict(single_customer)"
   ]
  }
 ],
 "metadata": {
  "kernelspec": {
   "display_name": "Python 3 (ipykernel)",
   "language": "python",
   "name": "python3"
  },
  "language_info": {
   "codemirror_mode": {
    "name": "ipython",
    "version": 3
   },
   "file_extension": ".py",
   "mimetype": "text/x-python",
   "name": "python",
   "nbconvert_exporter": "python",
   "pygments_lexer": "ipython3",
   "version": "3.8.18"
  }
 },
 "nbformat": 4,
 "nbformat_minor": 5
}
